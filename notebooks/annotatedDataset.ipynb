{
 "cells": [
  {
   "cell_type": "markdown",
   "id": "113ab306",
   "metadata": {},
   "source": [
    "## Annotated dataset\n",
    "\n",
    "- In this notebook, I will explore the annotated dataset stored as JSON file.\n",
    "- To annotate text files containing code-switching instances a text annotation feature of [the labelbox platform](https://labelbox.com/product/annotate/text/) was used. \n",
    "- First, we will load and experiment with the test sample which contains two objects=annotated files;\n",
    "- Second, we will load and explore the sample two which contains 14 objects=annotated files;\n",
    "- Finally, we will carry out a preliminary analysis of annotated data:\n",
    "   - how many utterances are there? \n",
    "   - how many code-switching instances are there within utterance?\n",
    "   - what type of code-switching (cs) is prevalent: inter-sent, intra-sent or intra-word?\n",
    "       - Our hypothesis is that intra-sent and intra-word cs types would be prevalent.\n",
    "   - for each type of cs, which linguistic unit is more common: phrases, discourse markers, particular POS (n,adj,adv, pronoun), etc."
   ]
  },
  {
   "cell_type": "code",
   "execution_count": 142,
   "id": "2e007e59",
   "metadata": {},
   "outputs": [],
   "source": [
    "# import labelbox as lb\n",
    "# import labelbox.types as lb_types\n",
    "import json\n",
    "import pandas as pd\n",
    "from flatten_json import flatten\n",
    "from collections import defaultdict\n",
    "import seaborn as sns"
   ]
  },
  {
   "cell_type": "markdown",
   "id": "4cfe2ce5",
   "metadata": {},
   "source": [
    "## Load annotated files: test sample 1\n",
    "\n",
    "- Open json files exported from the labelbox annotation project.\n",
    "    - a structure of json file: nested dictionary with multiple keys:values and values stored as lists;\n",
    "- Extract data from nested dictionary.\n",
    "    - tutorial can be found [here](https://towardsdatascience.com/how-do-i-extract-nested-data-in-python-4e7bed37566a) "
   ]
  },
  {
   "cell_type": "code",
   "execution_count": 143,
   "id": "206bfe3e",
   "metadata": {},
   "outputs": [],
   "source": [
    "with open('/Users/aidyn/Downloads/export-2023-03-16T21_01_57.705Z.json') as f:\n",
    "   data = json.load(f)\n",
    "\n",
    "# print(data[:10])"
   ]
  },
  {
   "cell_type": "code",
   "execution_count": 144,
   "id": "a6d51522",
   "metadata": {},
   "outputs": [
    {
     "data": {
      "text/plain": [
       "list"
      ]
     },
     "execution_count": 144,
     "metadata": {},
     "output_type": "execute_result"
    }
   ],
   "source": [
    "type(data)"
   ]
  },
  {
   "cell_type": "code",
   "execution_count": 145,
   "id": "500446d2",
   "metadata": {},
   "outputs": [
    {
     "data": {
      "text/plain": [
       "dict"
      ]
     },
     "execution_count": 145,
     "metadata": {},
     "output_type": "execute_result"
    }
   ],
   "source": [
    "len(data)\n",
    "type(data[0])"
   ]
  },
  {
   "cell_type": "code",
   "execution_count": 264,
   "id": "ecdd1ccd",
   "metadata": {},
   "outputs": [
    {
     "data": {
      "text/plain": [
       "dict_keys(['objects', 'classifications', 'relationships'])"
      ]
     },
     "execution_count": 264,
     "metadata": {},
     "output_type": "execute_result"
    }
   ],
   "source": [
    "label_dict = data[0]['Label']\n",
    "label_dict.keys()"
   ]
  },
  {
   "cell_type": "code",
   "execution_count": 147,
   "id": "2f5bd991",
   "metadata": {},
   "outputs": [
    {
     "data": {
      "text/plain": [
       "dict"
      ]
     },
     "execution_count": 147,
     "metadata": {},
     "output_type": "execute_result"
    }
   ],
   "source": [
    "type(data[0]['Label'])"
   ]
  },
  {
   "cell_type": "code",
   "execution_count": 148,
   "id": "f5a4056f",
   "metadata": {},
   "outputs": [
    {
     "data": {
      "text/plain": [
       "{'featureId': 'clfbk9dbf0002396jfl1k6gpk',\n",
       " 'schemaId': 'clfbcpdz013ua07zn9k319jn3',\n",
       " 'color': '#1CE6FF',\n",
       " 'title': 'uttr',\n",
       " 'value': 'uttr',\n",
       " 'version': 1,\n",
       " 'format': 'text.location',\n",
       " 'data': {'location': {'start': 151, 'end': 211}},\n",
       " 'classifications': [{'featureId': 'clfbk9hrj0004396jaxr9fvb7',\n",
       "   'schemaId': 'clfbcpdz013ub07zn8cw44wpj',\n",
       "   'title': 'lang',\n",
       "   'value': 'lang',\n",
       "   'position': 0,\n",
       "   'answer': {'featureId': 'clfbk9hrj0003396jlk95obai',\n",
       "    'schemaId': 'clfbcpdz013uc07zn8vjl7q45',\n",
       "    'title': 'kz',\n",
       "    'value': 'kz',\n",
       "    'position': 0}}]}"
      ]
     },
     "execution_count": 148,
     "metadata": {},
     "output_type": "execute_result"
    }
   ],
   "source": [
    "data[0]['Label']['objects'][0]"
   ]
  },
  {
   "cell_type": "code",
   "execution_count": 149,
   "id": "e06aa355",
   "metadata": {},
   "outputs": [
    {
     "data": {
      "text/plain": [
       "list"
      ]
     },
     "execution_count": 149,
     "metadata": {},
     "output_type": "execute_result"
    }
   ],
   "source": [
    "type(data[0]['Label']['objects'])"
   ]
  },
  {
   "cell_type": "code",
   "execution_count": 150,
   "id": "72e60574",
   "metadata": {},
   "outputs": [
    {
     "data": {
      "text/plain": [
       "49"
      ]
     },
     "execution_count": 150,
     "metadata": {},
     "output_type": "execute_result"
    }
   ],
   "source": [
    "len(data[0]['Label']['objects'])"
   ]
  },
  {
   "cell_type": "code",
   "execution_count": 151,
   "id": "17b2e62d",
   "metadata": {},
   "outputs": [
    {
     "data": {
      "text/plain": [
       "{'featureId': 'clfbk9dbf0002396jfl1k6gpk',\n",
       " 'schemaId': 'clfbcpdz013ua07zn9k319jn3',\n",
       " 'color': '#1CE6FF',\n",
       " 'title': 'uttr',\n",
       " 'value': 'uttr',\n",
       " 'version': 1,\n",
       " 'format': 'text.location',\n",
       " 'data': {'location': {'start': 151, 'end': 211}},\n",
       " 'classifications': [{'featureId': 'clfbk9hrj0004396jaxr9fvb7',\n",
       "   'schemaId': 'clfbcpdz013ub07zn8cw44wpj',\n",
       "   'title': 'lang',\n",
       "   'value': 'lang',\n",
       "   'position': 0,\n",
       "   'answer': {'featureId': 'clfbk9hrj0003396jlk95obai',\n",
       "    'schemaId': 'clfbcpdz013uc07zn8vjl7q45',\n",
       "    'title': 'kz',\n",
       "    'value': 'kz',\n",
       "    'position': 0}}]}"
      ]
     },
     "execution_count": 151,
     "metadata": {},
     "output_type": "execute_result"
    }
   ],
   "source": [
    "data[0]['Label']['objects'][0]"
   ]
  },
  {
   "cell_type": "code",
   "execution_count": 152,
   "id": "22a409c6",
   "metadata": {},
   "outputs": [
    {
     "data": {
      "text/plain": [
       "'clfbk9dbf0002396jfl1k6gpk'"
      ]
     },
     "execution_count": 152,
     "metadata": {},
     "output_type": "execute_result"
    }
   ],
   "source": [
    "data[0]['Label']['objects'][0]['featureId']"
   ]
  },
  {
   "cell_type": "code",
   "execution_count": 153,
   "id": "3b900c61",
   "metadata": {},
   "outputs": [
    {
     "data": {
      "text/plain": [
       "[{'featureId': 'clfbk9hrj0004396jaxr9fvb7',\n",
       "  'schemaId': 'clfbcpdz013ub07zn8cw44wpj',\n",
       "  'title': 'lang',\n",
       "  'value': 'lang',\n",
       "  'position': 0,\n",
       "  'answer': {'featureId': 'clfbk9hrj0003396jlk95obai',\n",
       "   'schemaId': 'clfbcpdz013uc07zn8vjl7q45',\n",
       "   'title': 'kz',\n",
       "   'value': 'kz',\n",
       "   'position': 0}}]"
      ]
     },
     "execution_count": 153,
     "metadata": {},
     "output_type": "execute_result"
    }
   ],
   "source": [
    "data[0]['Label']['objects'][0]['classifications']"
   ]
  },
  {
   "cell_type": "code",
   "execution_count": 154,
   "id": "15f3a4eb",
   "metadata": {},
   "outputs": [
    {
     "data": {
      "text/plain": [
       "list"
      ]
     },
     "execution_count": 154,
     "metadata": {},
     "output_type": "execute_result"
    }
   ],
   "source": [
    "type(data[0]['Label']['objects'][0]['classifications'])"
   ]
  },
  {
   "cell_type": "code",
   "execution_count": 155,
   "id": "ae605755",
   "metadata": {},
   "outputs": [
    {
     "data": {
      "text/plain": [
       "{'featureId': 'clfbk9hrj0003396jlk95obai',\n",
       " 'schemaId': 'clfbcpdz013uc07zn8vjl7q45',\n",
       " 'title': 'kz',\n",
       " 'value': 'kz',\n",
       " 'position': 0}"
      ]
     },
     "execution_count": 155,
     "metadata": {},
     "output_type": "execute_result"
    }
   ],
   "source": [
    "data[0]['Label']['objects'][0]['classifications'][0]['answer']"
   ]
  },
  {
   "cell_type": "code",
   "execution_count": 156,
   "id": "a2731da9",
   "metadata": {},
   "outputs": [
    {
     "data": {
      "text/plain": [
       "dict"
      ]
     },
     "execution_count": 156,
     "metadata": {},
     "output_type": "execute_result"
    }
   ],
   "source": [
    "type(data[0]['Label']['objects'][0]['classifications'][0]['answer'])"
   ]
  },
  {
   "cell_type": "code",
   "execution_count": 157,
   "id": "65bb58dd",
   "metadata": {},
   "outputs": [
    {
     "name": "stdout",
     "output_type": "stream",
     "text": [
      "[{'featureId': 'clfbk9hrj0004396jaxr9fvb7', 'schemaId': 'clfbcpdz013ub07zn8cw44wpj', 'title': 'lang', 'value': 'lang', 'position': 0, 'answer': {'featureId': 'clfbk9hrj0003396jlk95obai', 'schemaId': 'clfbcpdz013uc07zn8vjl7q45', 'title': 'kz', 'value': 'kz', 'position': 0}}]\n",
      "[{'featureId': 'clfbkxt8o0004396j79uc1v16', 'schemaId': 'clfbcpdz013ub07zn8cw44wpj', 'title': 'lang', 'value': 'lang', 'position': 0, 'answer': {'featureId': 'clfbkxt8o0003396jgcabgizk', 'schemaId': 'clfbcpdz113ue07zn3mzi80nz', 'title': 'rs', 'value': 'rs', 'position': 1}}]\n"
     ]
    }
   ],
   "source": [
    "for item in range(len(data)):\n",
    "     print(data[item]['Label']['objects'][0]['classifications'])"
   ]
  },
  {
   "cell_type": "code",
   "execution_count": 158,
   "id": "db850378",
   "metadata": {},
   "outputs": [
    {
     "name": "stdout",
     "output_type": "stream",
     "text": [
      "{'featureId': 'clfbk9dbf0002396jfl1k6gpk', 'schemaId': 'clfbcpdz013ua07zn9k319jn3', 'color': '#1CE6FF', 'title': 'uttr', 'value': 'uttr', 'version': 1, 'format': 'text.location', 'data': {'location': {'start': 151, 'end': 211}}, 'classifications': [{'featureId': 'clfbk9hrj0004396jaxr9fvb7', 'schemaId': 'clfbcpdz013ub07zn8cw44wpj', 'title': 'lang', 'value': 'lang', 'position': 0, 'answer': {'featureId': 'clfbk9hrj0003396jlk95obai', 'schemaId': 'clfbcpdz013uc07zn8vjl7q45', 'title': 'kz', 'value': 'kz', 'position': 0}}]}\n",
      "{'featureId': 'clfbkxma70002396jwrrwp26n', 'schemaId': 'clfbcpdz013ua07zn9k319jn3', 'color': '#1CE6FF', 'title': 'uttr', 'value': 'uttr', 'version': 1, 'format': 'text.location', 'data': {'location': {'start': 26, 'end': 42}}, 'classifications': [{'featureId': 'clfbkxt8o0004396j79uc1v16', 'schemaId': 'clfbcpdz013ub07zn8cw44wpj', 'title': 'lang', 'value': 'lang', 'position': 0, 'answer': {'featureId': 'clfbkxt8o0003396jgcabgizk', 'schemaId': 'clfbcpdz113ue07zn3mzi80nz', 'title': 'rs', 'value': 'rs', 'position': 1}}]}\n"
     ]
    }
   ],
   "source": [
    "for item in range(len(data)):\n",
    "     print(data[item]['Label']['objects'][0])"
   ]
  },
  {
   "cell_type": "code",
   "execution_count": 159,
   "id": "e44c780b",
   "metadata": {},
   "outputs": [
    {
     "name": "stdout",
     "output_type": "stream",
     "text": [
      "{'featureId': 'clfbk9hrj0003396jlk95obai', 'schemaId': 'clfbcpdz013uc07zn8vjl7q45', 'title': 'kz', 'value': 'kz', 'position': 0}\n",
      "{'featureId': 'clfbkxt8o0003396jgcabgizk', 'schemaId': 'clfbcpdz113ue07zn3mzi80nz', 'title': 'rs', 'value': 'rs', 'position': 1}\n"
     ]
    }
   ],
   "source": [
    "for item in range(len(data)):\n",
    "     print(data[item]['Label']['objects'][0]['classifications'][0]['answer'])"
   ]
  },
  {
   "cell_type": "markdown",
   "id": "62d609a4",
   "metadata": {},
   "source": [
    "## Build pd dataframe\n",
    "\n",
    "- Convert json file to pd df\n",
    "    - in df keys are column names and objects (with nested dictionaries) are rows;"
   ]
  },
  {
   "cell_type": "code",
   "execution_count": 160,
   "id": "998cb13c",
   "metadata": {},
   "outputs": [
    {
     "data": {
      "text/html": [
       "<div>\n",
       "<style scoped>\n",
       "    .dataframe tbody tr th:only-of-type {\n",
       "        vertical-align: middle;\n",
       "    }\n",
       "\n",
       "    .dataframe tbody tr th {\n",
       "        vertical-align: top;\n",
       "    }\n",
       "\n",
       "    .dataframe thead th {\n",
       "        text-align: right;\n",
       "    }\n",
       "</style>\n",
       "<table border=\"1\" class=\"dataframe\">\n",
       "  <thead>\n",
       "    <tr style=\"text-align: right;\">\n",
       "      <th></th>\n",
       "      <th>ID</th>\n",
       "      <th>DataRow ID</th>\n",
       "      <th>Labeled Data</th>\n",
       "      <th>Label</th>\n",
       "      <th>Created By</th>\n",
       "      <th>Project Name</th>\n",
       "      <th>Created At</th>\n",
       "      <th>Updated At</th>\n",
       "      <th>Seconds to Label</th>\n",
       "      <th>Seconds to Review</th>\n",
       "      <th>...</th>\n",
       "      <th>Agreement</th>\n",
       "      <th>Is Benchmark</th>\n",
       "      <th>Benchmark Agreement</th>\n",
       "      <th>Benchmark ID</th>\n",
       "      <th>Dataset Name</th>\n",
       "      <th>Reviews</th>\n",
       "      <th>View Label</th>\n",
       "      <th>Has Open Issues</th>\n",
       "      <th>Skipped</th>\n",
       "      <th>DataRow Workflow Info</th>\n",
       "    </tr>\n",
       "  </thead>\n",
       "  <tbody>\n",
       "    <tr>\n",
       "      <th>0</th>\n",
       "      <td>clfbk8guf04g5071jbrqo26bq</td>\n",
       "      <td>clfbcqidc3xmk07zvgxw373vk</td>\n",
       "      <td>https://storage.labelbox.com/clfagslqv28u407zn...</td>\n",
       "      <td>{'objects': [{'featureId': 'clfbk9dbf0002396jf...</td>\n",
       "      <td>mob75@pitt.edu</td>\n",
       "      <td>annotation-text1</td>\n",
       "      <td>2023-03-16T20:36:16.000Z</td>\n",
       "      <td>2023-03-16T20:36:16.000Z</td>\n",
       "      <td>691.644</td>\n",
       "      <td>32.957</td>\n",
       "      <td>...</td>\n",
       "      <td>-1</td>\n",
       "      <td>0</td>\n",
       "      <td>-1</td>\n",
       "      <td>None</td>\n",
       "      <td>cs-annotation1</td>\n",
       "      <td>[]</td>\n",
       "      <td>https://editor.labelbox.com?project=clfbk7q941...</td>\n",
       "      <td>0</td>\n",
       "      <td>False</td>\n",
       "      <td>{'taskName': 'Done', 'Workflow History': [{'ac...</td>\n",
       "    </tr>\n",
       "    <tr>\n",
       "      <th>1</th>\n",
       "      <td>clfbkxgaq0bes07012isv5rq9</td>\n",
       "      <td>clfbkqg468bwf07zc7n31dl3j</td>\n",
       "      <td>https://storage.labelbox.com/clfagslqv28u407zn...</td>\n",
       "      <td>{'objects': [{'featureId': 'clfbkxma70002396jw...</td>\n",
       "      <td>mob75@pitt.edu</td>\n",
       "      <td>annotation-text1</td>\n",
       "      <td>2023-03-16T20:59:51.000Z</td>\n",
       "      <td>2023-03-16T20:59:51.000Z</td>\n",
       "      <td>926.531</td>\n",
       "      <td>0.000</td>\n",
       "      <td>...</td>\n",
       "      <td>-1</td>\n",
       "      <td>0</td>\n",
       "      <td>-1</td>\n",
       "      <td>None</td>\n",
       "      <td>text2</td>\n",
       "      <td>[]</td>\n",
       "      <td>https://editor.labelbox.com?project=clfbk7q941...</td>\n",
       "      <td>0</td>\n",
       "      <td>False</td>\n",
       "      <td>{'taskName': 'Done', 'Workflow History': [{'ac...</td>\n",
       "    </tr>\n",
       "  </tbody>\n",
       "</table>\n",
       "<p>2 rows × 23 columns</p>\n",
       "</div>"
      ],
      "text/plain": [
       "                          ID                 DataRow ID  \\\n",
       "0  clfbk8guf04g5071jbrqo26bq  clfbcqidc3xmk07zvgxw373vk   \n",
       "1  clfbkxgaq0bes07012isv5rq9  clfbkqg468bwf07zc7n31dl3j   \n",
       "\n",
       "                                        Labeled Data  \\\n",
       "0  https://storage.labelbox.com/clfagslqv28u407zn...   \n",
       "1  https://storage.labelbox.com/clfagslqv28u407zn...   \n",
       "\n",
       "                                               Label      Created By  \\\n",
       "0  {'objects': [{'featureId': 'clfbk9dbf0002396jf...  mob75@pitt.edu   \n",
       "1  {'objects': [{'featureId': 'clfbkxma70002396jw...  mob75@pitt.edu   \n",
       "\n",
       "       Project Name                Created At                Updated At  \\\n",
       "0  annotation-text1  2023-03-16T20:36:16.000Z  2023-03-16T20:36:16.000Z   \n",
       "1  annotation-text1  2023-03-16T20:59:51.000Z  2023-03-16T20:59:51.000Z   \n",
       "\n",
       "   Seconds to Label  Seconds to Review  ...  Agreement Is Benchmark  \\\n",
       "0           691.644             32.957  ...         -1            0   \n",
       "1           926.531              0.000  ...         -1            0   \n",
       "\n",
       "  Benchmark Agreement  Benchmark ID    Dataset Name  Reviews  \\\n",
       "0                  -1          None  cs-annotation1       []   \n",
       "1                  -1          None           text2       []   \n",
       "\n",
       "                                          View Label Has Open Issues Skipped  \\\n",
       "0  https://editor.labelbox.com?project=clfbk7q941...               0   False   \n",
       "1  https://editor.labelbox.com?project=clfbk7q941...               0   False   \n",
       "\n",
       "                               DataRow Workflow Info  \n",
       "0  {'taskName': 'Done', 'Workflow History': [{'ac...  \n",
       "1  {'taskName': 'Done', 'Workflow History': [{'ac...  \n",
       "\n",
       "[2 rows x 23 columns]"
      ]
     },
     "execution_count": 160,
     "metadata": {},
     "output_type": "execute_result"
    }
   ],
   "source": [
    "# reading JSON file\n",
    "# df = pd.read_json('/Users/aidyn/Downloads/export-2023-03-16T21_01_57.705Z.json')\n",
    "df = pd.DataFrame(data)\n",
    "# displaying sample output\n",
    "df.head()"
   ]
  },
  {
   "cell_type": "code",
   "execution_count": 161,
   "id": "0135e016",
   "metadata": {},
   "outputs": [
    {
     "name": "stdout",
     "output_type": "stream",
     "text": [
      "<class 'pandas.core.frame.DataFrame'>\n",
      "RangeIndex: 2 entries, 0 to 1\n",
      "Data columns (total 23 columns):\n",
      " #   Column                 Non-Null Count  Dtype  \n",
      "---  ------                 --------------  -----  \n",
      " 0   ID                     2 non-null      object \n",
      " 1   DataRow ID             2 non-null      object \n",
      " 2   Labeled Data           2 non-null      object \n",
      " 3   Label                  2 non-null      object \n",
      " 4   Created By             2 non-null      object \n",
      " 5   Project Name           2 non-null      object \n",
      " 6   Created At             2 non-null      object \n",
      " 7   Updated At             2 non-null      object \n",
      " 8   Seconds to Label       2 non-null      float64\n",
      " 9   Seconds to Review      2 non-null      float64\n",
      " 10  Seconds to Create      2 non-null      float64\n",
      " 11  External ID            2 non-null      object \n",
      " 12  Global Key             0 non-null      object \n",
      " 13  Agreement              2 non-null      int64  \n",
      " 14  Is Benchmark           2 non-null      int64  \n",
      " 15  Benchmark Agreement    2 non-null      int64  \n",
      " 16  Benchmark ID           0 non-null      object \n",
      " 17  Dataset Name           2 non-null      object \n",
      " 18  Reviews                2 non-null      object \n",
      " 19  View Label             2 non-null      object \n",
      " 20  Has Open Issues        2 non-null      int64  \n",
      " 21  Skipped                2 non-null      bool   \n",
      " 22  DataRow Workflow Info  2 non-null      object \n",
      "dtypes: bool(1), float64(3), int64(4), object(15)\n",
      "memory usage: 482.0+ bytes\n"
     ]
    }
   ],
   "source": [
    "df.info()"
   ]
  },
  {
   "cell_type": "code",
   "execution_count": 162,
   "id": "5606e1b5",
   "metadata": {},
   "outputs": [
    {
     "name": "stdout",
     "output_type": "stream",
     "text": [
      "https://editor.labelbox.com?project=clfbk7q941djz07ymacjs9pqs&label=clfbk8guf04g5071jbrqo26bq\n",
      "https://editor.labelbox.com?project=clfbk7q941djz07ymacjs9pqs&label=clfbkxgaq0bes07012isv5rq9\n"
     ]
    }
   ],
   "source": [
    "# Check View Label Column\n",
    "for i in df['View Label']:\n",
    "    print(i)\n",
    "  "
   ]
  },
  {
   "cell_type": "code",
   "execution_count": 163,
   "id": "49817ed6",
   "metadata": {},
   "outputs": [],
   "source": [
    "# Check Label column\n",
    "# for i in df['Label']:\n",
    "    # print(i)"
   ]
  },
  {
   "cell_type": "markdown",
   "id": "b79aff80",
   "metadata": {},
   "source": [
    "- We need to parse nested dictionaries in df to better understand its structure and to see what keys:values we need to extract;\n",
    "- The most simple elements are ID, DataRow ID  keys and their values;\n",
    "- The most complex structure is Label key and its nested value;\n",
    "    - all annotated data is stored here."
   ]
  },
  {
   "cell_type": "code",
   "execution_count": 164,
   "id": "0285dad1",
   "metadata": {},
   "outputs": [
    {
     "data": {
      "text/plain": [
       "{'featureId': 'clfbk9dbf0002396jfl1k6gpk',\n",
       " 'schemaId': 'clfbcpdz013ua07zn9k319jn3',\n",
       " 'color': '#1CE6FF',\n",
       " 'title': 'uttr',\n",
       " 'value': 'uttr',\n",
       " 'version': 1,\n",
       " 'format': 'text.location',\n",
       " 'data': {'location': {'start': 151, 'end': 211}},\n",
       " 'classifications': [{'featureId': 'clfbk9hrj0004396jaxr9fvb7',\n",
       "   'schemaId': 'clfbcpdz013ub07zn8cw44wpj',\n",
       "   'title': 'lang',\n",
       "   'value': 'lang',\n",
       "   'position': 0,\n",
       "   'answer': {'featureId': 'clfbk9hrj0003396jlk95obai',\n",
       "    'schemaId': 'clfbcpdz013uc07zn8vjl7q45',\n",
       "    'title': 'kz',\n",
       "    'value': 'kz',\n",
       "    'position': 0}}]}"
      ]
     },
     "execution_count": 164,
     "metadata": {},
     "output_type": "execute_result"
    }
   ],
   "source": [
    "with open('/Users/aidyn/Downloads/export-2023-03-16T21_01_57.705Z.json') as user_file:\n",
    "  file_contents = user_file.read()\n",
    "  \n",
    "# print(file_contents)\n",
    "\n",
    "parsed_json = json.loads(file_contents)\n",
    "parsed_json[0]['Label']['objects'][0]"
   ]
  },
  {
   "cell_type": "code",
   "execution_count": 165,
   "id": "59d76dc6",
   "metadata": {},
   "outputs": [
    {
     "data": {
      "text/plain": [
       "list"
      ]
     },
     "execution_count": 165,
     "metadata": {},
     "output_type": "execute_result"
    }
   ],
   "source": [
    "type(parsed_json)"
   ]
  },
  {
   "cell_type": "code",
   "execution_count": 166,
   "id": "70f0317b",
   "metadata": {},
   "outputs": [],
   "source": [
    "# Might be helpful to extract keys and values from nested dict json object\n",
    "def dict_get(x,key,here=None):\n",
    "    x = x.copy()\n",
    "    if here is None: here = []\n",
    "    if x.get(key):  \n",
    "        here.append(x.get(key))\n",
    "        x.pop(key)\n",
    "    else:\n",
    "        for i,j in x.items():\n",
    "          if  isinstance(x[i],list): dict_get(x[i][0],key,here)\n",
    "          if  isinstance(x[i],dict): dict_get(x[i],key,here)\n",
    "    return here"
   ]
  },
  {
   "cell_type": "markdown",
   "id": "fd0dd2ec",
   "metadata": {},
   "source": [
    "## Parse nested JSON content\n",
    "\n",
    "- We want to extract Label key and its nested dictionary values bc annotated text information is stored here;\n",
    "- The nested JSON file was parsed following this tutorial [here](https://pybit.es/articles/case-study-how-to-parse-nested-json/)"
   ]
  },
  {
   "cell_type": "code",
   "execution_count": 167,
   "id": "f89de04b",
   "metadata": {},
   "outputs": [],
   "source": [
    "entries = df['Label'][0]['objects']\n",
    "# entries"
   ]
  },
  {
   "cell_type": "code",
   "execution_count": 168,
   "id": "d3491075",
   "metadata": {},
   "outputs": [
    {
     "data": {
      "text/plain": [
       "{'featureId': 'clfbk9dbf0002396jfl1k6gpk',\n",
       " 'schemaId': 'clfbcpdz013ua07zn9k319jn3',\n",
       " 'color': '#1CE6FF',\n",
       " 'title': 'uttr',\n",
       " 'value': 'uttr',\n",
       " 'version': 1,\n",
       " 'format': 'text.location',\n",
       " 'data': {'location': {'start': 151, 'end': 211}},\n",
       " 'classifications': [{'featureId': 'clfbk9hrj0004396jaxr9fvb7',\n",
       "   'schemaId': 'clfbcpdz013ub07zn8cw44wpj',\n",
       "   'title': 'lang',\n",
       "   'value': 'lang',\n",
       "   'position': 0,\n",
       "   'answer': {'featureId': 'clfbk9hrj0003396jlk95obai',\n",
       "    'schemaId': 'clfbcpdz013uc07zn8vjl7q45',\n",
       "    'title': 'kz',\n",
       "    'value': 'kz',\n",
       "    'position': 0}}]}"
      ]
     },
     "execution_count": 168,
     "metadata": {},
     "output_type": "execute_result"
    }
   ],
   "source": [
    "entries[0]"
   ]
  },
  {
   "cell_type": "code",
   "execution_count": 169,
   "id": "30ee6a6b",
   "metadata": {},
   "outputs": [
    {
     "data": {
      "text/plain": [
       "49"
      ]
     },
     "execution_count": 169,
     "metadata": {},
     "output_type": "execute_result"
    }
   ],
   "source": [
    "len(entries)"
   ]
  },
  {
   "cell_type": "code",
   "execution_count": 170,
   "id": "d7611131",
   "metadata": {},
   "outputs": [],
   "source": [
    "entries2 = df['Label'][1]['objects']\n",
    "# entries2"
   ]
  },
  {
   "cell_type": "code",
   "execution_count": 171,
   "id": "7c73292b",
   "metadata": {},
   "outputs": [
    {
     "data": {
      "text/html": [
       "<div>\n",
       "<style scoped>\n",
       "    .dataframe tbody tr th:only-of-type {\n",
       "        vertical-align: middle;\n",
       "    }\n",
       "\n",
       "    .dataframe tbody tr th {\n",
       "        vertical-align: top;\n",
       "    }\n",
       "\n",
       "    .dataframe thead th {\n",
       "        text-align: right;\n",
       "    }\n",
       "</style>\n",
       "<table border=\"1\" class=\"dataframe\">\n",
       "  <thead>\n",
       "    <tr style=\"text-align: right;\">\n",
       "      <th></th>\n",
       "      <th>featureId</th>\n",
       "      <th>schemaId</th>\n",
       "      <th>color</th>\n",
       "      <th>title</th>\n",
       "      <th>value</th>\n",
       "      <th>version</th>\n",
       "      <th>format</th>\n",
       "      <th>data</th>\n",
       "      <th>classifications</th>\n",
       "    </tr>\n",
       "  </thead>\n",
       "  <tbody>\n",
       "    <tr>\n",
       "      <th>13</th>\n",
       "      <td>clfbl2hlw0025396jtlcgg1zp</td>\n",
       "      <td>clfbcpdz013ua07zn9k319jn3</td>\n",
       "      <td>#1CE6FF</td>\n",
       "      <td>uttr</td>\n",
       "      <td>uttr</td>\n",
       "      <td>1</td>\n",
       "      <td>text.location</td>\n",
       "      <td>{'location': {'start': 1317, 'end': 1372}}</td>\n",
       "      <td>[{'featureId': 'clfbl2jl60027396jov9prlm1', 's...</td>\n",
       "    </tr>\n",
       "    <tr>\n",
       "      <th>38</th>\n",
       "      <td>clfbkle630060396j37y42g1k</td>\n",
       "      <td>clfbcpdz013ua07zn9k319jn3</td>\n",
       "      <td>#1CE6FF</td>\n",
       "      <td>uttr</td>\n",
       "      <td>uttr</td>\n",
       "      <td>1</td>\n",
       "      <td>text.location</td>\n",
       "      <td>{'location': {'start': 4314, 'end': 4320}}</td>\n",
       "      <td>[{'featureId': 'clfbklfbf0062396jgmctg1ed', 's...</td>\n",
       "    </tr>\n",
       "    <tr>\n",
       "      <th>20</th>\n",
       "      <td>clfbkgzk1003d396j9cxjz8k3</td>\n",
       "      <td>clfbcpdz013ua07zn9k319jn3</td>\n",
       "      <td>#1CE6FF</td>\n",
       "      <td>uttr</td>\n",
       "      <td>uttr</td>\n",
       "      <td>1</td>\n",
       "      <td>text.location</td>\n",
       "      <td>{'location': {'start': 2505, 'end': 2573}}</td>\n",
       "      <td>[{'featureId': 'clfbkh0zq003f396j0prl16fo', 's...</td>\n",
       "    </tr>\n",
       "    <tr>\n",
       "      <th>6</th>\n",
       "      <td>clfbkcc21001b396jblo0e4fh</td>\n",
       "      <td>clfbcpdz013ua07zn9k319jn3</td>\n",
       "      <td>#1CE6FF</td>\n",
       "      <td>uttr</td>\n",
       "      <td>uttr</td>\n",
       "      <td>1</td>\n",
       "      <td>text.location</td>\n",
       "      <td>{'location': {'start': 702, 'end': 724}}</td>\n",
       "      <td>[{'featureId': 'clfbkcdqq001d396j33e5v6ug', 's...</td>\n",
       "    </tr>\n",
       "    <tr>\n",
       "      <th>10</th>\n",
       "      <td>clfbkdk1j001v396jynjhh3iu</td>\n",
       "      <td>clfbcpdz013ua07zn9k319jn3</td>\n",
       "      <td>#1CE6FF</td>\n",
       "      <td>uttr</td>\n",
       "      <td>uttr</td>\n",
       "      <td>1</td>\n",
       "      <td>text.location</td>\n",
       "      <td>{'location': {'start': 1246, 'end': 1270}}</td>\n",
       "      <td>[{'featureId': 'clfbkdlpp001x396jjasojwnm', 's...</td>\n",
       "    </tr>\n",
       "  </tbody>\n",
       "</table>\n",
       "</div>"
      ],
      "text/plain": [
       "                    featureId                   schemaId    color title value  \\\n",
       "13  clfbl2hlw0025396jtlcgg1zp  clfbcpdz013ua07zn9k319jn3  #1CE6FF  uttr  uttr   \n",
       "38  clfbkle630060396j37y42g1k  clfbcpdz013ua07zn9k319jn3  #1CE6FF  uttr  uttr   \n",
       "20  clfbkgzk1003d396j9cxjz8k3  clfbcpdz013ua07zn9k319jn3  #1CE6FF  uttr  uttr   \n",
       "6   clfbkcc21001b396jblo0e4fh  clfbcpdz013ua07zn9k319jn3  #1CE6FF  uttr  uttr   \n",
       "10  clfbkdk1j001v396jynjhh3iu  clfbcpdz013ua07zn9k319jn3  #1CE6FF  uttr  uttr   \n",
       "\n",
       "    version         format                                        data  \\\n",
       "13        1  text.location  {'location': {'start': 1317, 'end': 1372}}   \n",
       "38        1  text.location  {'location': {'start': 4314, 'end': 4320}}   \n",
       "20        1  text.location  {'location': {'start': 2505, 'end': 2573}}   \n",
       "6         1  text.location    {'location': {'start': 702, 'end': 724}}   \n",
       "10        1  text.location  {'location': {'start': 1246, 'end': 1270}}   \n",
       "\n",
       "                                      classifications  \n",
       "13  [{'featureId': 'clfbl2jl60027396jov9prlm1', 's...  \n",
       "38  [{'featureId': 'clfbklfbf0062396jgmctg1ed', 's...  \n",
       "20  [{'featureId': 'clfbkh0zq003f396j0prl16fo', 's...  \n",
       "6   [{'featureId': 'clfbkcdqq001d396j33e5v6ug', 's...  \n",
       "10  [{'featureId': 'clfbkdlpp001x396jjasojwnm', 's...  "
      ]
     },
     "execution_count": 171,
     "metadata": {},
     "output_type": "execute_result"
    }
   ],
   "source": [
    "label_df1 = pd.DataFrame(entries)\n",
    "label_df2 = pd.DataFrame(entries2)\n",
    "label_df = pd.concat([label_df1, label_df2])\n",
    "label_df.sample(5)"
   ]
  },
  {
   "cell_type": "code",
   "execution_count": 172,
   "id": "a8eba6b2",
   "metadata": {},
   "outputs": [
    {
     "name": "stdout",
     "output_type": "stream",
     "text": [
      "Requirement already satisfied: flatten_json in /Users/aidyn/opt/anaconda3/envs/Python/lib/python3.9/site-packages (0.1.13)\n",
      "Requirement already satisfied: six in /Users/aidyn/opt/anaconda3/envs/Python/lib/python3.9/site-packages (from flatten_json) (1.16.0)\n",
      "Note: you may need to restart the kernel to use updated packages.\n"
     ]
    }
   ],
   "source": [
    "pip install flatten_json"
   ]
  },
  {
   "cell_type": "code",
   "execution_count": 173,
   "id": "eab54f50",
   "metadata": {},
   "outputs": [],
   "source": [
    "# df_final = pd.DataFrame([flatten_json(data[key]) for key in data])\n",
    "# df_final"
   ]
  },
  {
   "cell_type": "code",
   "execution_count": 174,
   "id": "39df9091",
   "metadata": {},
   "outputs": [
    {
     "data": {
      "text/plain": [
       "pandas.core.frame.DataFrame"
      ]
     },
     "execution_count": 174,
     "metadata": {},
     "output_type": "execute_result"
    }
   ],
   "source": [
    "type(label_df)"
   ]
  },
  {
   "cell_type": "code",
   "execution_count": 175,
   "id": "5d46207c",
   "metadata": {},
   "outputs": [
    {
     "name": "stdout",
     "output_type": "stream",
     "text": [
      "<class 'pandas.core.frame.DataFrame'>\n",
      "Int64Index: 111 entries, 0 to 61\n",
      "Data columns (total 9 columns):\n",
      " #   Column           Non-Null Count  Dtype \n",
      "---  ------           --------------  ----- \n",
      " 0   featureId        111 non-null    object\n",
      " 1   schemaId         111 non-null    object\n",
      " 2   color            111 non-null    object\n",
      " 3   title            111 non-null    object\n",
      " 4   value            111 non-null    object\n",
      " 5   version          111 non-null    int64 \n",
      " 6   format           111 non-null    object\n",
      " 7   data             111 non-null    object\n",
      " 8   classifications  111 non-null    object\n",
      "dtypes: int64(1), object(8)\n",
      "memory usage: 8.7+ KB\n"
     ]
    }
   ],
   "source": [
    "label_df.info()"
   ]
  },
  {
   "cell_type": "markdown",
   "id": "727bd3a8",
   "metadata": {},
   "source": [
    "- So,there is 111 annotated samples.\n",
    "- Classifications column contain nested subtags for each annotated sample, for example:  \n",
    "\n",
    "    - utterance (uttr) -> language (lang): Kazakh (kz)/Russian (rs)\n",
    "    - code-switching (cs) -> type: inter-sent/intra-sent/intra-word\n",
    "        - inter-sent: uttr\n",
    "        - intra-sent: disc/phr/vp/cl\n",
    "        - intra-word: n/adj/adv/pn/conj/interj/morph\n",
    "- More detailed information on the annotation scheme can be found [here](https://github.com/Data-Science-for-Linguists-2023/Kazakh-Russian-Code-Switching-Analysis/blob/main/data-annotated/annotation_scheme_1st_draft.md)\n",
    "        "
   ]
  },
  {
   "cell_type": "code",
   "execution_count": 176,
   "id": "a4896b2e",
   "metadata": {},
   "outputs": [
    {
     "data": {
      "text/plain": [
       "['lang',\n",
       " 'lang',\n",
       " 'intra-word',\n",
       " 'intra-word',\n",
       " 'intra-word',\n",
       " 'intra-word',\n",
       " 'intra-word',\n",
       " 'intra-word',\n",
       " 'intra-word',\n",
       " 'intra-word',\n",
       " 'intra-sent',\n",
       " 'intra-sent',\n",
       " 'intra-sent']"
      ]
     },
     "execution_count": 176,
     "metadata": {},
     "output_type": "execute_result"
    }
   ],
   "source": [
    "dict_get(label_df['classifications'],'title')"
   ]
  },
  {
   "cell_type": "code",
   "execution_count": 177,
   "id": "06ef6a85",
   "metadata": {},
   "outputs": [
    {
     "data": {
      "text/plain": [
       "13"
      ]
     },
     "execution_count": 177,
     "metadata": {},
     "output_type": "execute_result"
    }
   ],
   "source": [
    "len(dict_get(label_df['classifications'],'title'))"
   ]
  },
  {
   "cell_type": "code",
   "execution_count": 178,
   "id": "14fbd707",
   "metadata": {},
   "outputs": [
    {
     "data": {
      "text/plain": [
       "[{'featureId': 'clfblh28r008v396julvazgil',\n",
       "  'schemaId': 'clfbcpdz013uc07zn8vjl7q45',\n",
       "  'title': 'kz',\n",
       "  'value': 'kz',\n",
       "  'position': 0},\n",
       " {'featureId': 'clfblh7yh008z396j0c63pt6x',\n",
       "  'schemaId': 'clfbcpdz013uc07zn8vjl7q45',\n",
       "  'title': 'kz',\n",
       "  'value': 'kz',\n",
       "  'position': 0},\n",
       " {'featureId': 'clfbkyhm4000i396j1qjv48vy',\n",
       "  'schemaId': 'clfbcpdz113uy07zn3wo55wm0',\n",
       "  'title': 'n',\n",
       "  'value': 'n',\n",
       "  'position': 0},\n",
       " {'featureId': 'clfbl1nds001r396jp53z541c',\n",
       "  'schemaId': 'clfbcpdz113v207znepk25gqw',\n",
       "  'title': 'adv',\n",
       "  'value': 'adv',\n",
       "  'position': 2},\n",
       " {'featureId': 'clfbl34oh002g396jgg7ra10o',\n",
       "  'schemaId': 'clfbcpdz113v407znbtfvd85f',\n",
       "  'title': 'pn',\n",
       "  'value': 'pn',\n",
       "  'position': 3},\n",
       " {'featureId': 'clfbl4bs30030396j5szz9zr4',\n",
       "  'schemaId': 'clfbcpdz113v807zn2q2y9ck4',\n",
       "  'title': 'morph',\n",
       "  'value': 'morph',\n",
       "  'position': 5},\n",
       " {'featureId': 'clfbl8ccj004t396j7lhkdmid',\n",
       "  'schemaId': 'clfbcpdz113v807zn2q2y9ck4',\n",
       "  'title': 'morph',\n",
       "  'value': 'morph',\n",
       "  'position': 5},\n",
       " {'featureId': 'clfbl98z50058396jkkff39p3',\n",
       "  'schemaId': 'clfbcpdz113uy07zn3wo55wm0',\n",
       "  'title': 'n',\n",
       "  'value': 'n',\n",
       "  'position': 0},\n",
       " {'featureId': 'clfbla2xm005n396jtduff8cl',\n",
       "  'schemaId': 'clfbcpdz113uy07zn3wo55wm0',\n",
       "  'title': 'n',\n",
       "  'value': 'n',\n",
       "  'position': 0},\n",
       " {'featureId': 'clfblblsu006h396jvkihxx03',\n",
       "  'schemaId': 'clfbcpdz113v207znepk25gqw',\n",
       "  'title': 'adv',\n",
       "  'value': 'adv',\n",
       "  'position': 2},\n",
       " {'featureId': 'clfblc1js006m396jrh20tau9',\n",
       "  'schemaId': 'clfbcpdz113uq07zn5cez2vyz',\n",
       "  'title': 'phr',\n",
       "  'value': 'phr',\n",
       "  'position': 1},\n",
       " {'featureId': 'clfble333007d396j06kr9let',\n",
       "  'schemaId': 'clfbcpdz113uo07znh96wdg4o',\n",
       "  'title': 'disc',\n",
       "  'value': 'disc',\n",
       "  'position': 0},\n",
       " {'featureId': 'clfbleuco007p396jhonhjzf6',\n",
       "  'schemaId': 'clfbcpdz113uo07znh96wdg4o',\n",
       "  'title': 'disc',\n",
       "  'value': 'disc',\n",
       "  'position': 0}]"
      ]
     },
     "execution_count": 178,
     "metadata": {},
     "output_type": "execute_result"
    }
   ],
   "source": [
    "dict_get(label_df['classifications'],'answer')"
   ]
  },
  {
   "cell_type": "code",
   "execution_count": 179,
   "id": "aadf7616",
   "metadata": {},
   "outputs": [
    {
     "data": {
      "text/plain": [
       "13"
      ]
     },
     "execution_count": 179,
     "metadata": {},
     "output_type": "execute_result"
    }
   ],
   "source": [
    "len(dict_get(label_df['classifications'],'answer'))"
   ]
  },
  {
   "cell_type": "code",
   "execution_count": 180,
   "id": "9ebc6a32",
   "metadata": {},
   "outputs": [
    {
     "data": {
      "text/plain": [
       "['clfbcpdz013ub07zn8cw44wpj',\n",
       " 'clfbcpdz013ub07zn8cw44wpj',\n",
       " 'clfbcpdz113ux07znfaxvb5r2',\n",
       " 'clfbcpdz113ux07znfaxvb5r2',\n",
       " 'clfbcpdz113ux07znfaxvb5r2',\n",
       " 'clfbcpdz113ux07znfaxvb5r2',\n",
       " 'clfbcpdz113ux07znfaxvb5r2',\n",
       " 'clfbcpdz113ux07znfaxvb5r2',\n",
       " 'clfbcpdz113ux07znfaxvb5r2',\n",
       " 'clfbcpdz113ux07znfaxvb5r2',\n",
       " 'clfbcpdz113un07zn0qvugfbt',\n",
       " 'clfbcpdz113un07zn0qvugfbt',\n",
       " 'clfbcpdz113un07zn0qvugfbt']"
      ]
     },
     "execution_count": 180,
     "metadata": {},
     "output_type": "execute_result"
    }
   ],
   "source": [
    "dict_get(label_df['classifications'],'schemaId')"
   ]
  },
  {
   "cell_type": "code",
   "execution_count": 181,
   "id": "cb345ab0",
   "metadata": {},
   "outputs": [
    {
     "data": {
      "text/plain": [
       "['clfblh0n9008u396jtqksj611',\n",
       " 'clfblh7yh0090396j5b73x4w5',\n",
       " 'clfbkyhm4000j396jt97cpx6z',\n",
       " 'clfbl1nds001s396j4bvyqisf',\n",
       " 'clfbl34oh002h396jmuydz5wv',\n",
       " 'clfbl4bs30031396jii4jnq80',\n",
       " 'clfbl8ccj004u396jhv7y644g',\n",
       " 'clfbl98z50059396jdefdw5wc',\n",
       " 'clfbla2xm005o396jt8bsgdgv',\n",
       " 'clfblblsu006i396j44s1550t',\n",
       " 'clfblc1js006n396jb8lr8kea',\n",
       " 'clfble333007e396juhak2ekj',\n",
       " 'clfbleuco007q396j2maybd1e']"
      ]
     },
     "execution_count": 181,
     "metadata": {},
     "output_type": "execute_result"
    }
   ],
   "source": [
    "dict_get(label_df['classifications'],'featureId')"
   ]
  },
  {
   "cell_type": "code",
   "execution_count": 182,
   "id": "16292a9f",
   "metadata": {},
   "outputs": [
    {
     "data": {
      "text/plain": [
       "13"
      ]
     },
     "execution_count": 182,
     "metadata": {},
     "output_type": "execute_result"
    }
   ],
   "source": [
    "len(dict_get(label_df['classifications'],'featureId'))"
   ]
  },
  {
   "cell_type": "code",
   "execution_count": 183,
   "id": "22ce0e10",
   "metadata": {},
   "outputs": [
    {
     "data": {
      "text/plain": [
       "['lang',\n",
       " 'lang',\n",
       " 'intra_word',\n",
       " 'intra_word',\n",
       " 'intra_word',\n",
       " 'intra_word',\n",
       " 'intra_word',\n",
       " 'intra_word',\n",
       " 'intra_word',\n",
       " 'intra_word',\n",
       " 'intra_sent',\n",
       " 'intra_sent',\n",
       " 'intra_sent']"
      ]
     },
     "execution_count": 183,
     "metadata": {},
     "output_type": "execute_result"
    }
   ],
   "source": [
    "dict_get(label_df['classifications'],'value')"
   ]
  },
  {
   "cell_type": "code",
   "execution_count": 184,
   "id": "b4231a0a",
   "metadata": {},
   "outputs": [
    {
     "data": {
      "text/plain": [
       "schemaId                   title\n",
       "clfbcpdz013ua07zn9k319jn3  uttr     95\n",
       "clfbcpdz113ui07znc6r6b37s  cs       16\n",
       "Name: title, dtype: int64"
      ]
     },
     "execution_count": 184,
     "metadata": {},
     "output_type": "execute_result"
    }
   ],
   "source": [
    "label_df.groupby('schemaId')['title'].value_counts()"
   ]
  },
  {
   "cell_type": "code",
   "execution_count": 185,
   "id": "62db437f",
   "metadata": {},
   "outputs": [
    {
     "data": {
      "text/plain": [
       "uttr    95\n",
       "cs      16\n",
       "Name: title, dtype: int64"
      ]
     },
     "execution_count": 185,
     "metadata": {},
     "output_type": "execute_result"
    }
   ],
   "source": [
    "label_df['title'].value_counts()"
   ]
  },
  {
   "cell_type": "code",
   "execution_count": 186,
   "id": "72b406d0",
   "metadata": {},
   "outputs": [
    {
     "data": {
      "text/html": [
       "<div>\n",
       "<style scoped>\n",
       "    .dataframe tbody tr th:only-of-type {\n",
       "        vertical-align: middle;\n",
       "    }\n",
       "\n",
       "    .dataframe tbody tr th {\n",
       "        vertical-align: top;\n",
       "    }\n",
       "\n",
       "    .dataframe thead th {\n",
       "        text-align: right;\n",
       "    }\n",
       "</style>\n",
       "<table border=\"1\" class=\"dataframe\">\n",
       "  <thead>\n",
       "    <tr style=\"text-align: right;\">\n",
       "      <th></th>\n",
       "      <th>ID</th>\n",
       "      <th>DataRow ID</th>\n",
       "      <th>Labeled Data</th>\n",
       "      <th>Created By</th>\n",
       "      <th>Project Name</th>\n",
       "      <th>Created At</th>\n",
       "      <th>Updated At</th>\n",
       "      <th>Seconds to Label</th>\n",
       "      <th>Seconds to Review</th>\n",
       "      <th>Seconds to Create</th>\n",
       "      <th>...</th>\n",
       "      <th>Dataset Name</th>\n",
       "      <th>Reviews</th>\n",
       "      <th>View Label</th>\n",
       "      <th>Has Open Issues</th>\n",
       "      <th>Skipped</th>\n",
       "      <th>Label.objects</th>\n",
       "      <th>Label.classifications</th>\n",
       "      <th>Label.relationships</th>\n",
       "      <th>DataRow Workflow Info.taskName</th>\n",
       "      <th>DataRow Workflow Info.Workflow History</th>\n",
       "    </tr>\n",
       "  </thead>\n",
       "  <tbody>\n",
       "    <tr>\n",
       "      <th>0</th>\n",
       "      <td>clfbk8guf04g5071jbrqo26bq</td>\n",
       "      <td>clfbcqidc3xmk07zvgxw373vk</td>\n",
       "      <td>https://storage.labelbox.com/clfagslqv28u407zn...</td>\n",
       "      <td>mob75@pitt.edu</td>\n",
       "      <td>annotation-text1</td>\n",
       "      <td>2023-03-16T20:36:16.000Z</td>\n",
       "      <td>2023-03-16T20:36:16.000Z</td>\n",
       "      <td>691.644</td>\n",
       "      <td>32.957</td>\n",
       "      <td>658.687</td>\n",
       "      <td>...</td>\n",
       "      <td>cs-annotation1</td>\n",
       "      <td>[]</td>\n",
       "      <td>https://editor.labelbox.com?project=clfbk7q941...</td>\n",
       "      <td>0</td>\n",
       "      <td>False</td>\n",
       "      <td>[{'featureId': 'clfbk9dbf0002396jfl1k6gpk', 's...</td>\n",
       "      <td>[]</td>\n",
       "      <td>[]</td>\n",
       "      <td>Done</td>\n",
       "      <td>[{'actorId': 'clfagslum28u607zn20th1y45', 'act...</td>\n",
       "    </tr>\n",
       "    <tr>\n",
       "      <th>1</th>\n",
       "      <td>clfbkxgaq0bes07012isv5rq9</td>\n",
       "      <td>clfbkqg468bwf07zc7n31dl3j</td>\n",
       "      <td>https://storage.labelbox.com/clfagslqv28u407zn...</td>\n",
       "      <td>mob75@pitt.edu</td>\n",
       "      <td>annotation-text1</td>\n",
       "      <td>2023-03-16T20:59:51.000Z</td>\n",
       "      <td>2023-03-16T20:59:51.000Z</td>\n",
       "      <td>926.531</td>\n",
       "      <td>0.000</td>\n",
       "      <td>926.531</td>\n",
       "      <td>...</td>\n",
       "      <td>text2</td>\n",
       "      <td>[]</td>\n",
       "      <td>https://editor.labelbox.com?project=clfbk7q941...</td>\n",
       "      <td>0</td>\n",
       "      <td>False</td>\n",
       "      <td>[{'featureId': 'clfbkxma70002396jwrrwp26n', 's...</td>\n",
       "      <td>[]</td>\n",
       "      <td>[]</td>\n",
       "      <td>Done</td>\n",
       "      <td>[{'actorId': 'clfagslum28u607zn20th1y45', 'act...</td>\n",
       "    </tr>\n",
       "  </tbody>\n",
       "</table>\n",
       "<p>2 rows × 26 columns</p>\n",
       "</div>"
      ],
      "text/plain": [
       "                          ID                 DataRow ID  \\\n",
       "0  clfbk8guf04g5071jbrqo26bq  clfbcqidc3xmk07zvgxw373vk   \n",
       "1  clfbkxgaq0bes07012isv5rq9  clfbkqg468bwf07zc7n31dl3j   \n",
       "\n",
       "                                        Labeled Data      Created By  \\\n",
       "0  https://storage.labelbox.com/clfagslqv28u407zn...  mob75@pitt.edu   \n",
       "1  https://storage.labelbox.com/clfagslqv28u407zn...  mob75@pitt.edu   \n",
       "\n",
       "       Project Name                Created At                Updated At  \\\n",
       "0  annotation-text1  2023-03-16T20:36:16.000Z  2023-03-16T20:36:16.000Z   \n",
       "1  annotation-text1  2023-03-16T20:59:51.000Z  2023-03-16T20:59:51.000Z   \n",
       "\n",
       "   Seconds to Label  Seconds to Review  Seconds to Create  ...  \\\n",
       "0           691.644             32.957            658.687  ...   \n",
       "1           926.531              0.000            926.531  ...   \n",
       "\n",
       "     Dataset Name Reviews                                         View Label  \\\n",
       "0  cs-annotation1      []  https://editor.labelbox.com?project=clfbk7q941...   \n",
       "1           text2      []  https://editor.labelbox.com?project=clfbk7q941...   \n",
       "\n",
       "   Has Open Issues  Skipped  \\\n",
       "0                0    False   \n",
       "1                0    False   \n",
       "\n",
       "                                       Label.objects Label.classifications  \\\n",
       "0  [{'featureId': 'clfbk9dbf0002396jfl1k6gpk', 's...                    []   \n",
       "1  [{'featureId': 'clfbkxma70002396jwrrwp26n', 's...                    []   \n",
       "\n",
       "  Label.relationships DataRow Workflow Info.taskName  \\\n",
       "0                  []                           Done   \n",
       "1                  []                           Done   \n",
       "\n",
       "              DataRow Workflow Info.Workflow History  \n",
       "0  [{'actorId': 'clfagslum28u607zn20th1y45', 'act...  \n",
       "1  [{'actorId': 'clfagslum28u607zn20th1y45', 'act...  \n",
       "\n",
       "[2 rows x 26 columns]"
      ]
     },
     "metadata": {},
     "output_type": "display_data"
    }
   ],
   "source": [
    "df = pd.json_normalize(data, sep='.')\n",
    "display(df)\n",
    "\n"
   ]
  },
  {
   "cell_type": "code",
   "execution_count": 187,
   "id": "46d662ce",
   "metadata": {},
   "outputs": [
    {
     "data": {
      "text/plain": [
       "{'featureId': 'clfbk9dbf0002396jfl1k6gpk',\n",
       " 'schemaId': 'clfbcpdz013ua07zn9k319jn3',\n",
       " 'color': '#1CE6FF',\n",
       " 'title': 'uttr',\n",
       " 'value': 'uttr',\n",
       " 'version': 1,\n",
       " 'format': 'text.location',\n",
       " 'data': {'location': {'start': 151, 'end': 211}},\n",
       " 'classifications': [{'featureId': 'clfbk9hrj0004396jaxr9fvb7',\n",
       "   'schemaId': 'clfbcpdz013ub07zn8cw44wpj',\n",
       "   'title': 'lang',\n",
       "   'value': 'lang',\n",
       "   'position': 0,\n",
       "   'answer': {'featureId': 'clfbk9hrj0003396jlk95obai',\n",
       "    'schemaId': 'clfbcpdz013uc07zn8vjl7q45',\n",
       "    'title': 'kz',\n",
       "    'value': 'kz',\n",
       "    'position': 0}}]}"
      ]
     },
     "execution_count": 187,
     "metadata": {},
     "output_type": "execute_result"
    }
   ],
   "source": [
    "# Concat two dict-entries\n",
    "entries = entries + entries2\n",
    "entries[0]"
   ]
  },
  {
   "cell_type": "code",
   "execution_count": 188,
   "id": "5a9d24d4",
   "metadata": {},
   "outputs": [
    {
     "data": {
      "text/plain": [
       "list"
      ]
     },
     "execution_count": 188,
     "metadata": {},
     "output_type": "execute_result"
    }
   ],
   "source": [
    "type(entries)"
   ]
  },
  {
   "cell_type": "code",
   "execution_count": 189,
   "id": "c1c32ae3",
   "metadata": {},
   "outputs": [],
   "source": [
    "# parsed_data = defaultdict(list)\n",
    "\n",
    "def recursive_parser(entry: dict, data_dict: dict, col_name: str = \"\") -> dict:\n",
    "    \"\"\"Recursive parser for a list of nested JSON objects\n",
    "    \n",
    "    Args:\n",
    "        entry (dict): A dictionary representing a single entry (row) of the final data frame.\n",
    "        data_dict (dict): Accumulator holding the current parsed data.\n",
    "        col_name (str): Accumulator holding the current column name. Defaults to empty string.\n",
    "    \"\"\"\n",
    "    for key, val in entry.items():\n",
    "        extended_col_name = f\"{col_name}_{key}\" if col_name else key\n",
    "        if isinstance(val, dict):\n",
    "            recursive_parser(entry[key], data_dict, extended_col_name)\n",
    "        else:\n",
    "            data_dict[extended_col_name].append(val)\n",
    "\n",
    "parsed_data = defaultdict(list)\n",
    "\n",
    "for entry in entries:\n",
    "    recursive_parser(entry, parsed_data, \"\")\n",
    "\n",
    "df = pd.DataFrame(parsed_data)"
   ]
  },
  {
   "cell_type": "code",
   "execution_count": 190,
   "id": "13d5dacd",
   "metadata": {},
   "outputs": [
    {
     "data": {
      "text/html": [
       "<div>\n",
       "<style scoped>\n",
       "    .dataframe tbody tr th:only-of-type {\n",
       "        vertical-align: middle;\n",
       "    }\n",
       "\n",
       "    .dataframe tbody tr th {\n",
       "        vertical-align: top;\n",
       "    }\n",
       "\n",
       "    .dataframe thead th {\n",
       "        text-align: right;\n",
       "    }\n",
       "</style>\n",
       "<table border=\"1\" class=\"dataframe\">\n",
       "  <thead>\n",
       "    <tr style=\"text-align: right;\">\n",
       "      <th></th>\n",
       "      <th>featureId</th>\n",
       "      <th>schemaId</th>\n",
       "      <th>color</th>\n",
       "      <th>title</th>\n",
       "      <th>value</th>\n",
       "      <th>version</th>\n",
       "      <th>format</th>\n",
       "      <th>data_location_start</th>\n",
       "      <th>data_location_end</th>\n",
       "      <th>classifications</th>\n",
       "    </tr>\n",
       "  </thead>\n",
       "  <tbody>\n",
       "    <tr>\n",
       "      <th>0</th>\n",
       "      <td>clfbk9dbf0002396jfl1k6gpk</td>\n",
       "      <td>clfbcpdz013ua07zn9k319jn3</td>\n",
       "      <td>#1CE6FF</td>\n",
       "      <td>uttr</td>\n",
       "      <td>uttr</td>\n",
       "      <td>1</td>\n",
       "      <td>text.location</td>\n",
       "      <td>151</td>\n",
       "      <td>211</td>\n",
       "      <td>[{'featureId': 'clfbk9hrj0004396jaxr9fvb7', 's...</td>\n",
       "    </tr>\n",
       "    <tr>\n",
       "      <th>1</th>\n",
       "      <td>clfbk9q660007396ji9fkn5ya</td>\n",
       "      <td>clfbcpdz013ua07zn9k319jn3</td>\n",
       "      <td>#1CE6FF</td>\n",
       "      <td>uttr</td>\n",
       "      <td>uttr</td>\n",
       "      <td>1</td>\n",
       "      <td>text.location</td>\n",
       "      <td>228</td>\n",
       "      <td>296</td>\n",
       "      <td>[{'featureId': 'clfbk9sie0009396jvshpmff7', 's...</td>\n",
       "    </tr>\n",
       "    <tr>\n",
       "      <th>2</th>\n",
       "      <td>clfbkajp7000h396jticb6tb7</td>\n",
       "      <td>clfbcpdz013ua07zn9k319jn3</td>\n",
       "      <td>#1CE6FF</td>\n",
       "      <td>uttr</td>\n",
       "      <td>uttr</td>\n",
       "      <td>1</td>\n",
       "      <td>text.location</td>\n",
       "      <td>313</td>\n",
       "      <td>387</td>\n",
       "      <td>[{'featureId': 'clfbkal14000j396jo0ry3eb8', 's...</td>\n",
       "    </tr>\n",
       "    <tr>\n",
       "      <th>3</th>\n",
       "      <td>clfbkaq3k000m396jjwbnfb8n</td>\n",
       "      <td>clfbcpdz013ua07zn9k319jn3</td>\n",
       "      <td>#1CE6FF</td>\n",
       "      <td>uttr</td>\n",
       "      <td>uttr</td>\n",
       "      <td>1</td>\n",
       "      <td>text.location</td>\n",
       "      <td>398</td>\n",
       "      <td>413</td>\n",
       "      <td>[{'featureId': 'clfbkarhn000o396j0lao0sgk', 's...</td>\n",
       "    </tr>\n",
       "    <tr>\n",
       "      <th>4</th>\n",
       "      <td>clfbkb19x000r396jmixhcf23</td>\n",
       "      <td>clfbcpdz013ua07zn9k319jn3</td>\n",
       "      <td>#1CE6FF</td>\n",
       "      <td>uttr</td>\n",
       "      <td>uttr</td>\n",
       "      <td>1</td>\n",
       "      <td>text.location</td>\n",
       "      <td>429</td>\n",
       "      <td>458</td>\n",
       "      <td>[{'featureId': 'clfbkb2up000t396jvhwtdk5a', 's...</td>\n",
       "    </tr>\n",
       "    <tr>\n",
       "      <th>...</th>\n",
       "      <td>...</td>\n",
       "      <td>...</td>\n",
       "      <td>...</td>\n",
       "      <td>...</td>\n",
       "      <td>...</td>\n",
       "      <td>...</td>\n",
       "      <td>...</td>\n",
       "      <td>...</td>\n",
       "      <td>...</td>\n",
       "      <td>...</td>\n",
       "    </tr>\n",
       "    <tr>\n",
       "      <th>106</th>\n",
       "      <td>clfbla0ed005m396jhwxzv2ui</td>\n",
       "      <td>clfbcpdz113ui07znc6r6b37s</td>\n",
       "      <td>#FF34FF</td>\n",
       "      <td>cs</td>\n",
       "      <td>cs</td>\n",
       "      <td>1</td>\n",
       "      <td>text.location</td>\n",
       "      <td>4529</td>\n",
       "      <td>4541</td>\n",
       "      <td>[{'featureId': 'clfbla2xm005o396jt8bsgdgv', 's...</td>\n",
       "    </tr>\n",
       "    <tr>\n",
       "      <th>107</th>\n",
       "      <td>clfblbjlu006g396jgex1r7gu</td>\n",
       "      <td>clfbcpdz113ui07znc6r6b37s</td>\n",
       "      <td>#FF34FF</td>\n",
       "      <td>cs</td>\n",
       "      <td>cs</td>\n",
       "      <td>1</td>\n",
       "      <td>text.location</td>\n",
       "      <td>4976</td>\n",
       "      <td>4981</td>\n",
       "      <td>[{'featureId': 'clfblblsu006i396j44s1550t', 's...</td>\n",
       "    </tr>\n",
       "    <tr>\n",
       "      <th>108</th>\n",
       "      <td>clfblbx1q006l396jc40wocvd</td>\n",
       "      <td>clfbcpdz113ui07znc6r6b37s</td>\n",
       "      <td>#FF34FF</td>\n",
       "      <td>cs</td>\n",
       "      <td>cs</td>\n",
       "      <td>1</td>\n",
       "      <td>text.location</td>\n",
       "      <td>5033</td>\n",
       "      <td>5049</td>\n",
       "      <td>[{'featureId': 'clfblc1js006n396jb8lr8kea', 's...</td>\n",
       "    </tr>\n",
       "    <tr>\n",
       "      <th>109</th>\n",
       "      <td>clfble0yu007c396ja0be4j2m</td>\n",
       "      <td>clfbcpdz113ui07znc6r6b37s</td>\n",
       "      <td>#FF34FF</td>\n",
       "      <td>cs</td>\n",
       "      <td>cs</td>\n",
       "      <td>1</td>\n",
       "      <td>text.location</td>\n",
       "      <td>5620</td>\n",
       "      <td>5624</td>\n",
       "      <td>[{'featureId': 'clfble333007e396juhak2ekj', 's...</td>\n",
       "    </tr>\n",
       "    <tr>\n",
       "      <th>110</th>\n",
       "      <td>clfblepxv007o396jjnd6u8d0</td>\n",
       "      <td>clfbcpdz113ui07znc6r6b37s</td>\n",
       "      <td>#FF34FF</td>\n",
       "      <td>cs</td>\n",
       "      <td>cs</td>\n",
       "      <td>1</td>\n",
       "      <td>text.location</td>\n",
       "      <td>5643</td>\n",
       "      <td>5646</td>\n",
       "      <td>[{'featureId': 'clfbleuco007q396j2maybd1e', 's...</td>\n",
       "    </tr>\n",
       "  </tbody>\n",
       "</table>\n",
       "<p>111 rows × 10 columns</p>\n",
       "</div>"
      ],
      "text/plain": [
       "                     featureId                   schemaId    color title  \\\n",
       "0    clfbk9dbf0002396jfl1k6gpk  clfbcpdz013ua07zn9k319jn3  #1CE6FF  uttr   \n",
       "1    clfbk9q660007396ji9fkn5ya  clfbcpdz013ua07zn9k319jn3  #1CE6FF  uttr   \n",
       "2    clfbkajp7000h396jticb6tb7  clfbcpdz013ua07zn9k319jn3  #1CE6FF  uttr   \n",
       "3    clfbkaq3k000m396jjwbnfb8n  clfbcpdz013ua07zn9k319jn3  #1CE6FF  uttr   \n",
       "4    clfbkb19x000r396jmixhcf23  clfbcpdz013ua07zn9k319jn3  #1CE6FF  uttr   \n",
       "..                         ...                        ...      ...   ...   \n",
       "106  clfbla0ed005m396jhwxzv2ui  clfbcpdz113ui07znc6r6b37s  #FF34FF    cs   \n",
       "107  clfblbjlu006g396jgex1r7gu  clfbcpdz113ui07znc6r6b37s  #FF34FF    cs   \n",
       "108  clfblbx1q006l396jc40wocvd  clfbcpdz113ui07znc6r6b37s  #FF34FF    cs   \n",
       "109  clfble0yu007c396ja0be4j2m  clfbcpdz113ui07znc6r6b37s  #FF34FF    cs   \n",
       "110  clfblepxv007o396jjnd6u8d0  clfbcpdz113ui07znc6r6b37s  #FF34FF    cs   \n",
       "\n",
       "    value  version         format  data_location_start  data_location_end  \\\n",
       "0    uttr        1  text.location                  151                211   \n",
       "1    uttr        1  text.location                  228                296   \n",
       "2    uttr        1  text.location                  313                387   \n",
       "3    uttr        1  text.location                  398                413   \n",
       "4    uttr        1  text.location                  429                458   \n",
       "..    ...      ...            ...                  ...                ...   \n",
       "106    cs        1  text.location                 4529               4541   \n",
       "107    cs        1  text.location                 4976               4981   \n",
       "108    cs        1  text.location                 5033               5049   \n",
       "109    cs        1  text.location                 5620               5624   \n",
       "110    cs        1  text.location                 5643               5646   \n",
       "\n",
       "                                       classifications  \n",
       "0    [{'featureId': 'clfbk9hrj0004396jaxr9fvb7', 's...  \n",
       "1    [{'featureId': 'clfbk9sie0009396jvshpmff7', 's...  \n",
       "2    [{'featureId': 'clfbkal14000j396jo0ry3eb8', 's...  \n",
       "3    [{'featureId': 'clfbkarhn000o396j0lao0sgk', 's...  \n",
       "4    [{'featureId': 'clfbkb2up000t396jvhwtdk5a', 's...  \n",
       "..                                                 ...  \n",
       "106  [{'featureId': 'clfbla2xm005o396jt8bsgdgv', 's...  \n",
       "107  [{'featureId': 'clfblblsu006i396j44s1550t', 's...  \n",
       "108  [{'featureId': 'clfblc1js006n396jb8lr8kea', 's...  \n",
       "109  [{'featureId': 'clfble333007e396juhak2ekj', 's...  \n",
       "110  [{'featureId': 'clfbleuco007q396j2maybd1e', 's...  \n",
       "\n",
       "[111 rows x 10 columns]"
      ]
     },
     "execution_count": 190,
     "metadata": {},
     "output_type": "execute_result"
    }
   ],
   "source": [
    "df"
   ]
  },
  {
   "cell_type": "code",
   "execution_count": 191,
   "id": "521876a4",
   "metadata": {},
   "outputs": [
    {
     "name": "stdout",
     "output_type": "stream",
     "text": [
      "{'featureId': 'clfbk9hrj0004396jaxr9fvb7', 'schemaId': 'clfbcpdz013ub07zn8cw44wpj', 'title': 'lang', 'value': 'lang', 'position': 0, 'answer': {'featureId': 'clfbk9hrj0003396jlk95obai', 'schemaId': 'clfbcpdz013uc07zn8vjl7q45', 'title': 'kz', 'value': 'kz', 'position': 0}}\n"
     ]
    }
   ],
   "source": [
    "for i in df['classifications'][0]:\n",
    "    print(i)"
   ]
  },
  {
   "cell_type": "code",
   "execution_count": 192,
   "id": "8933cdd7",
   "metadata": {},
   "outputs": [
    {
     "name": "stdout",
     "output_type": "stream",
     "text": [
      "{'featureId': 'clfbleuco007q396j2maybd1e', 'schemaId': 'clfbcpdz113un07zn0qvugfbt', 'title': 'intra-sent', 'value': 'intra_sent', 'position': 1, 'answer': {'featureId': 'clfbleuco007p396jhonhjzf6', 'schemaId': 'clfbcpdz113uo07znh96wdg4o', 'title': 'disc', 'value': 'disc', 'position': 0}}\n"
     ]
    }
   ],
   "source": [
    "for i in df['classifications'][110]:\n",
    "    print(i)"
   ]
  },
  {
   "cell_type": "code",
   "execution_count": 193,
   "id": "2d8cfafa",
   "metadata": {},
   "outputs": [
    {
     "data": {
      "text/plain": [
       "[{'featureId': 'clfbk9hrj0004396jaxr9fvb7',\n",
       "  'schemaId': 'clfbcpdz013ub07zn8cw44wpj',\n",
       "  'title': 'lang',\n",
       "  'value': 'lang',\n",
       "  'position': 0,\n",
       "  'answer': {'featureId': 'clfbk9hrj0003396jlk95obai',\n",
       "   'schemaId': 'clfbcpdz013uc07zn8vjl7q45',\n",
       "   'title': 'kz',\n",
       "   'value': 'kz',\n",
       "   'position': 0}}]"
      ]
     },
     "execution_count": 193,
     "metadata": {},
     "output_type": "execute_result"
    }
   ],
   "source": [
    "dic = df['classifications'].to_dict()\n",
    "dic[0]"
   ]
  },
  {
   "cell_type": "code",
   "execution_count": 194,
   "id": "31d3e478",
   "metadata": {},
   "outputs": [
    {
     "data": {
      "text/plain": [
       "dict"
      ]
     },
     "execution_count": 194,
     "metadata": {},
     "output_type": "execute_result"
    }
   ],
   "source": [
    "type(dic)"
   ]
  },
  {
   "cell_type": "code",
   "execution_count": 195,
   "id": "ce63b9b4",
   "metadata": {},
   "outputs": [],
   "source": [
    "flattened_clf = flatten(dic)"
   ]
  },
  {
   "cell_type": "code",
   "execution_count": 196,
   "id": "047ac35a",
   "metadata": {},
   "outputs": [],
   "source": [
    "import flatten_json\n",
    "def flatten_json(nested_json: dict, exclude: list=[''], sep: str='_') -> dict:\n",
    "    \"\"\"\n",
    "    Flatten a list of nested dicts.\n",
    "    \"\"\"\n",
    "    out = dict()\n",
    "    def flatten(x: (list, dict, str), name: str='', exclude=exclude):\n",
    "        if type(x) is dict:\n",
    "            for a in x:\n",
    "                if a not in exclude:\n",
    "                    flatten(x[a], f'{name}{a}{sep}')\n",
    "        elif type(x) is list:\n",
    "            i = 0\n",
    "            for a in x:\n",
    "                flatten(a, f'{name}{i}{sep}')\n",
    "                i += 1\n",
    "        else:\n",
    "            out[name[:-1]] = x\n",
    "\n",
    "    flatten(nested_json)\n",
    "    return out\n",
    "\n",
    "flatten_labeldf = flatten_json(label_df)"
   ]
  },
  {
   "cell_type": "code",
   "execution_count": 197,
   "id": "8a2bd17d",
   "metadata": {},
   "outputs": [
    {
     "data": {
      "text/plain": [
       "dict"
      ]
     },
     "execution_count": 197,
     "metadata": {},
     "output_type": "execute_result"
    }
   ],
   "source": [
    "type(flatten_labeldf)"
   ]
  },
  {
   "cell_type": "code",
   "execution_count": 198,
   "id": "f34bb907",
   "metadata": {},
   "outputs": [
    {
     "data": {
      "text/plain": [
       "dict_items([('',                     featureId                   schemaId    color title value  \\\n",
       "0   clfbk9dbf0002396jfl1k6gpk  clfbcpdz013ua07zn9k319jn3  #1CE6FF  uttr  uttr   \n",
       "1   clfbk9q660007396ji9fkn5ya  clfbcpdz013ua07zn9k319jn3  #1CE6FF  uttr  uttr   \n",
       "2   clfbkajp7000h396jticb6tb7  clfbcpdz013ua07zn9k319jn3  #1CE6FF  uttr  uttr   \n",
       "3   clfbkaq3k000m396jjwbnfb8n  clfbcpdz013ua07zn9k319jn3  #1CE6FF  uttr  uttr   \n",
       "4   clfbkb19x000r396jmixhcf23  clfbcpdz013ua07zn9k319jn3  #1CE6FF  uttr  uttr   \n",
       "..                        ...                        ...      ...   ...   ...   \n",
       "57  clfbla0ed005m396jhwxzv2ui  clfbcpdz113ui07znc6r6b37s  #FF34FF    cs    cs   \n",
       "58  clfblbjlu006g396jgex1r7gu  clfbcpdz113ui07znc6r6b37s  #FF34FF    cs    cs   \n",
       "59  clfblbx1q006l396jc40wocvd  clfbcpdz113ui07znc6r6b37s  #FF34FF    cs    cs   \n",
       "60  clfble0yu007c396ja0be4j2m  clfbcpdz113ui07znc6r6b37s  #FF34FF    cs    cs   \n",
       "61  clfblepxv007o396jjnd6u8d0  clfbcpdz113ui07znc6r6b37s  #FF34FF    cs    cs   \n",
       "\n",
       "    version         format                                        data  \\\n",
       "0         1  text.location    {'location': {'start': 151, 'end': 211}}   \n",
       "1         1  text.location    {'location': {'start': 228, 'end': 296}}   \n",
       "2         1  text.location    {'location': {'start': 313, 'end': 387}}   \n",
       "3         1  text.location    {'location': {'start': 398, 'end': 413}}   \n",
       "4         1  text.location    {'location': {'start': 429, 'end': 458}}   \n",
       "..      ...            ...                                         ...   \n",
       "57        1  text.location  {'location': {'start': 4529, 'end': 4541}}   \n",
       "58        1  text.location  {'location': {'start': 4976, 'end': 4981}}   \n",
       "59        1  text.location  {'location': {'start': 5033, 'end': 5049}}   \n",
       "60        1  text.location  {'location': {'start': 5620, 'end': 5624}}   \n",
       "61        1  text.location  {'location': {'start': 5643, 'end': 5646}}   \n",
       "\n",
       "                                      classifications  \n",
       "0   [{'featureId': 'clfbk9hrj0004396jaxr9fvb7', 's...  \n",
       "1   [{'featureId': 'clfbk9sie0009396jvshpmff7', 's...  \n",
       "2   [{'featureId': 'clfbkal14000j396jo0ry3eb8', 's...  \n",
       "3   [{'featureId': 'clfbkarhn000o396j0lao0sgk', 's...  \n",
       "4   [{'featureId': 'clfbkb2up000t396jvhwtdk5a', 's...  \n",
       "..                                                ...  \n",
       "57  [{'featureId': 'clfbla2xm005o396jt8bsgdgv', 's...  \n",
       "58  [{'featureId': 'clfblblsu006i396j44s1550t', 's...  \n",
       "59  [{'featureId': 'clfblc1js006n396jb8lr8kea', 's...  \n",
       "60  [{'featureId': 'clfble333007e396juhak2ekj', 's...  \n",
       "61  [{'featureId': 'clfbleuco007q396j2maybd1e', 's...  \n",
       "\n",
       "[111 rows x 9 columns])])"
      ]
     },
     "execution_count": 198,
     "metadata": {},
     "output_type": "execute_result"
    }
   ],
   "source": [
    "flatten_labeldf.items()"
   ]
  },
  {
   "cell_type": "code",
   "execution_count": 259,
   "id": "09b75eaa",
   "metadata": {},
   "outputs": [
    {
     "data": {
      "text/plain": [
       "dict_keys([''])"
      ]
     },
     "execution_count": 259,
     "metadata": {},
     "output_type": "execute_result"
    }
   ],
   "source": [
    "# entry_dict = flatten_labeldf['classifications'][0]['answer']\n",
    "# entry_dict\n",
    "# flatten_labeldf.keys()"
   ]
  },
  {
   "cell_type": "markdown",
   "id": "60216979",
   "metadata": {},
   "source": [
    "#### Setting global tags"
   ]
  },
  {
   "cell_type": "code",
   "execution_count": 199,
   "id": "7a17a921",
   "metadata": {},
   "outputs": [
    {
     "data": {
      "text/html": [
       "<div>\n",
       "<style scoped>\n",
       "    .dataframe tbody tr th:only-of-type {\n",
       "        vertical-align: middle;\n",
       "    }\n",
       "\n",
       "    .dataframe tbody tr th {\n",
       "        vertical-align: top;\n",
       "    }\n",
       "\n",
       "    .dataframe thead th {\n",
       "        text-align: right;\n",
       "    }\n",
       "</style>\n",
       "<table border=\"1\" class=\"dataframe\">\n",
       "  <thead>\n",
       "    <tr style=\"text-align: right;\">\n",
       "      <th></th>\n",
       "      <th>ID</th>\n",
       "      <th>DataRow ID</th>\n",
       "      <th>Labeled Data</th>\n",
       "      <th>Label</th>\n",
       "      <th>Created By</th>\n",
       "      <th>Project Name</th>\n",
       "      <th>Created At</th>\n",
       "      <th>Updated At</th>\n",
       "      <th>Seconds to Label</th>\n",
       "      <th>Seconds to Review</th>\n",
       "      <th>...</th>\n",
       "      <th>Agreement</th>\n",
       "      <th>Is Benchmark</th>\n",
       "      <th>Benchmark Agreement</th>\n",
       "      <th>Benchmark ID</th>\n",
       "      <th>Dataset Name</th>\n",
       "      <th>Reviews</th>\n",
       "      <th>View Label</th>\n",
       "      <th>Has Open Issues</th>\n",
       "      <th>Skipped</th>\n",
       "      <th>DataRow Workflow Info</th>\n",
       "    </tr>\n",
       "  </thead>\n",
       "  <tbody>\n",
       "    <tr>\n",
       "      <th>0</th>\n",
       "      <td>clfeba39t08r707y49iyjb6rd</td>\n",
       "      <td>clfbkqg468bwf07zc7n31dl3j</td>\n",
       "      <td>https://storage.labelbox.com/clfagslqv28u407zn...</td>\n",
       "      <td>{'objects': [{'featureId': 'clfebao350002396jb...</td>\n",
       "      <td>mob75@pitt.edu</td>\n",
       "      <td>annotation-pilot-5</td>\n",
       "      <td>2023-03-18T18:43:26.000Z</td>\n",
       "      <td>2023-03-18T18:43:26.000Z</td>\n",
       "      <td>333.261</td>\n",
       "      <td>0</td>\n",
       "      <td>...</td>\n",
       "      <td>-1</td>\n",
       "      <td>0</td>\n",
       "      <td>-1</td>\n",
       "      <td>NaN</td>\n",
       "      <td>text2</td>\n",
       "      <td>[]</td>\n",
       "      <td>https://editor.labelbox.com?project=clfeazj2x0...</td>\n",
       "      <td>0</td>\n",
       "      <td>False</td>\n",
       "      <td>{'taskId': 'db06a4f6-ad4d-4ff0-b90e-4d0c0a701b...</td>\n",
       "    </tr>\n",
       "  </tbody>\n",
       "</table>\n",
       "<p>1 rows × 23 columns</p>\n",
       "</div>"
      ],
      "text/plain": [
       "                          ID                 DataRow ID  \\\n",
       "0  clfeba39t08r707y49iyjb6rd  clfbkqg468bwf07zc7n31dl3j   \n",
       "\n",
       "                                        Labeled Data  \\\n",
       "0  https://storage.labelbox.com/clfagslqv28u407zn...   \n",
       "\n",
       "                                               Label      Created By  \\\n",
       "0  {'objects': [{'featureId': 'clfebao350002396jb...  mob75@pitt.edu   \n",
       "\n",
       "         Project Name                Created At                Updated At  \\\n",
       "0  annotation-pilot-5  2023-03-18T18:43:26.000Z  2023-03-18T18:43:26.000Z   \n",
       "\n",
       "   Seconds to Label  Seconds to Review  ...  Agreement Is Benchmark  \\\n",
       "0           333.261                  0  ...         -1            0   \n",
       "\n",
       "   Benchmark Agreement  Benchmark ID  Dataset Name  Reviews  \\\n",
       "0                   -1           NaN         text2       []   \n",
       "\n",
       "                                          View Label Has Open Issues Skipped  \\\n",
       "0  https://editor.labelbox.com?project=clfeazj2x0...               0   False   \n",
       "\n",
       "                               DataRow Workflow Info  \n",
       "0  {'taskId': 'db06a4f6-ad4d-4ff0-b90e-4d0c0a701b...  \n",
       "\n",
       "[1 rows x 23 columns]"
      ]
     },
     "execution_count": 199,
     "metadata": {},
     "output_type": "execute_result"
    }
   ],
   "source": [
    "# reading JSON file\n",
    "df_pilot5 = pd.read_json('/Users/aidyn/Downloads/export-2023-03-18T18_44_16.835Z.json')\n",
    "\n",
    "# displaying sample output\n",
    "df_pilot5.head()"
   ]
  },
  {
   "cell_type": "code",
   "execution_count": 200,
   "id": "2eafaf34",
   "metadata": {},
   "outputs": [
    {
     "data": {
      "text/plain": [
       "[{'featureId': 'clfebao350002396jb23w7a83',\n",
       "  'schemaId': 'clfeayddt0q3e07346y4fcus3',\n",
       "  'color': '#1CE6FF',\n",
       "  'title': 'uttr',\n",
       "  'value': 'uttr',\n",
       "  'version': 1,\n",
       "  'format': 'text.location',\n",
       "  'data': {'location': {'start': 26, 'end': 42}}},\n",
       " {'featureId': 'clfebdyk2000d396jx2mihrxi',\n",
       "  'schemaId': 'clfeayddt0q3e07346y4fcus3',\n",
       "  'color': '#1CE6FF',\n",
       "  'title': 'uttr',\n",
       "  'value': 'uttr',\n",
       "  'version': 1,\n",
       "  'format': 'text.location',\n",
       "  'data': {'location': {'start': 106, 'end': 124}}},\n",
       " {'featureId': 'clfebeb8m000g396j2vg1hddw',\n",
       "  'schemaId': 'clfeayddt0q3e07346y4fcus3',\n",
       "  'color': '#1CE6FF',\n",
       "  'title': 'uttr',\n",
       "  'value': 'uttr',\n",
       "  'version': 1,\n",
       "  'format': 'text.location',\n",
       "  'data': {'location': {'start': 168, 'end': 259}}},\n",
       " {'featureId': 'clfebfl84000n396jcbjyjln3',\n",
       "  'schemaId': 'clfeayddt0q3e07346y4fcus3',\n",
       "  'color': '#1CE6FF',\n",
       "  'title': 'uttr',\n",
       "  'value': 'uttr',\n",
       "  'version': 1,\n",
       "  'format': 'text.location',\n",
       "  'data': {'location': {'start': 423, 'end': 437}}},\n",
       " {'featureId': 'clfebg02r000r396jdkxwm5e5',\n",
       "  'schemaId': 'clfeayddt0q3e07346y4fcus3',\n",
       "  'color': '#1CE6FF',\n",
       "  'title': 'uttr',\n",
       "  'value': 'uttr',\n",
       "  'version': 1,\n",
       "  'format': 'text.location',\n",
       "  'data': {'location': {'start': 561, 'end': 585}}},\n",
       " {'featureId': 'clfebga26000s396j3lrycm8n',\n",
       "  'schemaId': 'clfeayddt0q3e07346y4fcus3',\n",
       "  'color': '#1CE6FF',\n",
       "  'title': 'uttr',\n",
       "  'value': 'uttr',\n",
       "  'version': 1,\n",
       "  'format': 'text.location',\n",
       "  'data': {'location': {'start': 679, 'end': 705}}},\n",
       " {'featureId': 'clfebghe7000t396ji7mharwj',\n",
       "  'schemaId': 'clfeayddt0q3e07346y4fcus3',\n",
       "  'color': '#1CE6FF',\n",
       "  'title': 'uttr',\n",
       "  'value': 'uttr',\n",
       "  'version': 1,\n",
       "  'format': 'text.location',\n",
       "  'data': {'location': {'start': 793, 'end': 821}}},\n",
       " {'featureId': 'clfebgoo2000u396jjdtn9h4c',\n",
       "  'schemaId': 'clfeayddt0q3e07346y4fcus3',\n",
       "  'color': '#1CE6FF',\n",
       "  'title': 'uttr',\n",
       "  'value': 'uttr',\n",
       "  'version': 1,\n",
       "  'format': 'text.location',\n",
       "  'data': {'location': {'start': 874, 'end': 902}}},\n",
       " {'featureId': 'clfebgv7m000v396jjnr7q3am',\n",
       "  'schemaId': 'clfeayddt0q3e07346y4fcus3',\n",
       "  'color': '#1CE6FF',\n",
       "  'title': 'uttr',\n",
       "  'value': 'uttr',\n",
       "  'version': 1,\n",
       "  'format': 'text.location',\n",
       "  'data': {'location': {'start': 934, 'end': 1008}}}]"
      ]
     },
     "execution_count": 200,
     "metadata": {},
     "output_type": "execute_result"
    }
   ],
   "source": [
    "labels = df_pilot5['Label'][0]['objects']\n",
    "labels"
   ]
  },
  {
   "cell_type": "code",
   "execution_count": 201,
   "id": "68482adb",
   "metadata": {},
   "outputs": [
    {
     "data": {
      "text/html": [
       "<div>\n",
       "<style scoped>\n",
       "    .dataframe tbody tr th:only-of-type {\n",
       "        vertical-align: middle;\n",
       "    }\n",
       "\n",
       "    .dataframe tbody tr th {\n",
       "        vertical-align: top;\n",
       "    }\n",
       "\n",
       "    .dataframe thead th {\n",
       "        text-align: right;\n",
       "    }\n",
       "</style>\n",
       "<table border=\"1\" class=\"dataframe\">\n",
       "  <thead>\n",
       "    <tr style=\"text-align: right;\">\n",
       "      <th></th>\n",
       "      <th>featureId</th>\n",
       "      <th>schemaId</th>\n",
       "      <th>color</th>\n",
       "      <th>title</th>\n",
       "      <th>value</th>\n",
       "      <th>version</th>\n",
       "      <th>format</th>\n",
       "      <th>data</th>\n",
       "    </tr>\n",
       "  </thead>\n",
       "  <tbody>\n",
       "    <tr>\n",
       "      <th>0</th>\n",
       "      <td>clfebao350002396jb23w7a83</td>\n",
       "      <td>clfeayddt0q3e07346y4fcus3</td>\n",
       "      <td>#1CE6FF</td>\n",
       "      <td>uttr</td>\n",
       "      <td>uttr</td>\n",
       "      <td>1</td>\n",
       "      <td>text.location</td>\n",
       "      <td>{'location': {'start': 26, 'end': 42}}</td>\n",
       "    </tr>\n",
       "    <tr>\n",
       "      <th>1</th>\n",
       "      <td>clfebdyk2000d396jx2mihrxi</td>\n",
       "      <td>clfeayddt0q3e07346y4fcus3</td>\n",
       "      <td>#1CE6FF</td>\n",
       "      <td>uttr</td>\n",
       "      <td>uttr</td>\n",
       "      <td>1</td>\n",
       "      <td>text.location</td>\n",
       "      <td>{'location': {'start': 106, 'end': 124}}</td>\n",
       "    </tr>\n",
       "    <tr>\n",
       "      <th>2</th>\n",
       "      <td>clfebeb8m000g396j2vg1hddw</td>\n",
       "      <td>clfeayddt0q3e07346y4fcus3</td>\n",
       "      <td>#1CE6FF</td>\n",
       "      <td>uttr</td>\n",
       "      <td>uttr</td>\n",
       "      <td>1</td>\n",
       "      <td>text.location</td>\n",
       "      <td>{'location': {'start': 168, 'end': 259}}</td>\n",
       "    </tr>\n",
       "    <tr>\n",
       "      <th>3</th>\n",
       "      <td>clfebfl84000n396jcbjyjln3</td>\n",
       "      <td>clfeayddt0q3e07346y4fcus3</td>\n",
       "      <td>#1CE6FF</td>\n",
       "      <td>uttr</td>\n",
       "      <td>uttr</td>\n",
       "      <td>1</td>\n",
       "      <td>text.location</td>\n",
       "      <td>{'location': {'start': 423, 'end': 437}}</td>\n",
       "    </tr>\n",
       "    <tr>\n",
       "      <th>4</th>\n",
       "      <td>clfebg02r000r396jdkxwm5e5</td>\n",
       "      <td>clfeayddt0q3e07346y4fcus3</td>\n",
       "      <td>#1CE6FF</td>\n",
       "      <td>uttr</td>\n",
       "      <td>uttr</td>\n",
       "      <td>1</td>\n",
       "      <td>text.location</td>\n",
       "      <td>{'location': {'start': 561, 'end': 585}}</td>\n",
       "    </tr>\n",
       "    <tr>\n",
       "      <th>5</th>\n",
       "      <td>clfebga26000s396j3lrycm8n</td>\n",
       "      <td>clfeayddt0q3e07346y4fcus3</td>\n",
       "      <td>#1CE6FF</td>\n",
       "      <td>uttr</td>\n",
       "      <td>uttr</td>\n",
       "      <td>1</td>\n",
       "      <td>text.location</td>\n",
       "      <td>{'location': {'start': 679, 'end': 705}}</td>\n",
       "    </tr>\n",
       "    <tr>\n",
       "      <th>6</th>\n",
       "      <td>clfebghe7000t396ji7mharwj</td>\n",
       "      <td>clfeayddt0q3e07346y4fcus3</td>\n",
       "      <td>#1CE6FF</td>\n",
       "      <td>uttr</td>\n",
       "      <td>uttr</td>\n",
       "      <td>1</td>\n",
       "      <td>text.location</td>\n",
       "      <td>{'location': {'start': 793, 'end': 821}}</td>\n",
       "    </tr>\n",
       "    <tr>\n",
       "      <th>7</th>\n",
       "      <td>clfebgoo2000u396jjdtn9h4c</td>\n",
       "      <td>clfeayddt0q3e07346y4fcus3</td>\n",
       "      <td>#1CE6FF</td>\n",
       "      <td>uttr</td>\n",
       "      <td>uttr</td>\n",
       "      <td>1</td>\n",
       "      <td>text.location</td>\n",
       "      <td>{'location': {'start': 874, 'end': 902}}</td>\n",
       "    </tr>\n",
       "    <tr>\n",
       "      <th>8</th>\n",
       "      <td>clfebgv7m000v396jjnr7q3am</td>\n",
       "      <td>clfeayddt0q3e07346y4fcus3</td>\n",
       "      <td>#1CE6FF</td>\n",
       "      <td>uttr</td>\n",
       "      <td>uttr</td>\n",
       "      <td>1</td>\n",
       "      <td>text.location</td>\n",
       "      <td>{'location': {'start': 934, 'end': 1008}}</td>\n",
       "    </tr>\n",
       "  </tbody>\n",
       "</table>\n",
       "</div>"
      ],
      "text/plain": [
       "                   featureId                   schemaId    color title value  \\\n",
       "0  clfebao350002396jb23w7a83  clfeayddt0q3e07346y4fcus3  #1CE6FF  uttr  uttr   \n",
       "1  clfebdyk2000d396jx2mihrxi  clfeayddt0q3e07346y4fcus3  #1CE6FF  uttr  uttr   \n",
       "2  clfebeb8m000g396j2vg1hddw  clfeayddt0q3e07346y4fcus3  #1CE6FF  uttr  uttr   \n",
       "3  clfebfl84000n396jcbjyjln3  clfeayddt0q3e07346y4fcus3  #1CE6FF  uttr  uttr   \n",
       "4  clfebg02r000r396jdkxwm5e5  clfeayddt0q3e07346y4fcus3  #1CE6FF  uttr  uttr   \n",
       "5  clfebga26000s396j3lrycm8n  clfeayddt0q3e07346y4fcus3  #1CE6FF  uttr  uttr   \n",
       "6  clfebghe7000t396ji7mharwj  clfeayddt0q3e07346y4fcus3  #1CE6FF  uttr  uttr   \n",
       "7  clfebgoo2000u396jjdtn9h4c  clfeayddt0q3e07346y4fcus3  #1CE6FF  uttr  uttr   \n",
       "8  clfebgv7m000v396jjnr7q3am  clfeayddt0q3e07346y4fcus3  #1CE6FF  uttr  uttr   \n",
       "\n",
       "   version         format                                       data  \n",
       "0        1  text.location     {'location': {'start': 26, 'end': 42}}  \n",
       "1        1  text.location   {'location': {'start': 106, 'end': 124}}  \n",
       "2        1  text.location   {'location': {'start': 168, 'end': 259}}  \n",
       "3        1  text.location   {'location': {'start': 423, 'end': 437}}  \n",
       "4        1  text.location   {'location': {'start': 561, 'end': 585}}  \n",
       "5        1  text.location   {'location': {'start': 679, 'end': 705}}  \n",
       "6        1  text.location   {'location': {'start': 793, 'end': 821}}  \n",
       "7        1  text.location   {'location': {'start': 874, 'end': 902}}  \n",
       "8        1  text.location  {'location': {'start': 934, 'end': 1008}}  "
      ]
     },
     "execution_count": 201,
     "metadata": {},
     "output_type": "execute_result"
    }
   ],
   "source": [
    "pilot_df = pd.DataFrame(labels)\n",
    "pilot_df"
   ]
  },
  {
   "cell_type": "markdown",
   "id": "0b8d1381",
   "metadata": {},
   "source": [
    "- Note: using global tags overrides the code-switching sub-classifications."
   ]
  },
  {
   "cell_type": "markdown",
   "id": "91b9c11d",
   "metadata": {},
   "source": [
    "## Test sample 2"
   ]
  },
  {
   "cell_type": "code",
   "execution_count": 203,
   "id": "d2a8c812",
   "metadata": {},
   "outputs": [
    {
     "data": {
      "text/html": [
       "<div>\n",
       "<style scoped>\n",
       "    .dataframe tbody tr th:only-of-type {\n",
       "        vertical-align: middle;\n",
       "    }\n",
       "\n",
       "    .dataframe tbody tr th {\n",
       "        vertical-align: top;\n",
       "    }\n",
       "\n",
       "    .dataframe thead th {\n",
       "        text-align: right;\n",
       "    }\n",
       "</style>\n",
       "<table border=\"1\" class=\"dataframe\">\n",
       "  <thead>\n",
       "    <tr style=\"text-align: right;\">\n",
       "      <th></th>\n",
       "      <th>ID</th>\n",
       "      <th>DataRow ID</th>\n",
       "      <th>Labeled Data</th>\n",
       "      <th>Label</th>\n",
       "      <th>Created By</th>\n",
       "      <th>Project Name</th>\n",
       "      <th>Created At</th>\n",
       "      <th>Updated At</th>\n",
       "      <th>Seconds to Label</th>\n",
       "      <th>Seconds to Review</th>\n",
       "      <th>...</th>\n",
       "      <th>Agreement</th>\n",
       "      <th>Is Benchmark</th>\n",
       "      <th>Benchmark Agreement</th>\n",
       "      <th>Benchmark ID</th>\n",
       "      <th>Dataset Name</th>\n",
       "      <th>Reviews</th>\n",
       "      <th>View Label</th>\n",
       "      <th>Has Open Issues</th>\n",
       "      <th>Skipped</th>\n",
       "      <th>DataRow Workflow Info</th>\n",
       "    </tr>\n",
       "  </thead>\n",
       "  <tbody>\n",
       "    <tr>\n",
       "      <th>0</th>\n",
       "      <td>clfbk8guf04g5071jbrqo26bq</td>\n",
       "      <td>clfbcqidc3xmk07zvgxw373vk</td>\n",
       "      <td>https://storage.labelbox.com/clfagslqv28u407zn...</td>\n",
       "      <td>{'objects': [{'featureId': 'clfbk9dbf0002396jf...</td>\n",
       "      <td>mob75@pitt.edu</td>\n",
       "      <td>cs-annotation-project</td>\n",
       "      <td>2023-03-16T20:36:16.000Z</td>\n",
       "      <td>2023-03-16T20:36:16.000Z</td>\n",
       "      <td>749.159</td>\n",
       "      <td>72.967</td>\n",
       "      <td>...</td>\n",
       "      <td>-1</td>\n",
       "      <td>0</td>\n",
       "      <td>-1</td>\n",
       "      <td>NaN</td>\n",
       "      <td>cs-annotation1</td>\n",
       "      <td>[]</td>\n",
       "      <td>https://editor.labelbox.com?project=clfbk7q941...</td>\n",
       "      <td>0</td>\n",
       "      <td>False</td>\n",
       "      <td>{'taskName': 'Done', 'Workflow History': [{'ac...</td>\n",
       "    </tr>\n",
       "    <tr>\n",
       "      <th>1</th>\n",
       "      <td>clfbkxgaq0bes07012isv5rq9</td>\n",
       "      <td>clfbkqg468bwf07zc7n31dl3j</td>\n",
       "      <td>https://storage.labelbox.com/clfagslqv28u407zn...</td>\n",
       "      <td>{'objects': [{'featureId': 'clfbkxma70002396jw...</td>\n",
       "      <td>mob75@pitt.edu</td>\n",
       "      <td>cs-annotation-project</td>\n",
       "      <td>2023-03-16T20:59:51.000Z</td>\n",
       "      <td>2023-03-16T20:59:51.000Z</td>\n",
       "      <td>972.239</td>\n",
       "      <td>0.000</td>\n",
       "      <td>...</td>\n",
       "      <td>-1</td>\n",
       "      <td>0</td>\n",
       "      <td>-1</td>\n",
       "      <td>NaN</td>\n",
       "      <td>text2</td>\n",
       "      <td>[]</td>\n",
       "      <td>https://editor.labelbox.com?project=clfbk7q941...</td>\n",
       "      <td>0</td>\n",
       "      <td>False</td>\n",
       "      <td>{'taskName': 'Done', 'Workflow History': [{'ac...</td>\n",
       "    </tr>\n",
       "    <tr>\n",
       "      <th>2</th>\n",
       "      <td>clfef6xx80t7207yzh33ohlgx</td>\n",
       "      <td>clfeb1kdn1yhb07895fdzagon</td>\n",
       "      <td>https://storage.labelbox.com/clfagslqv28u407zn...</td>\n",
       "      <td>{'objects': [{'featureId': 'clfef75jw0002396jb...</td>\n",
       "      <td>mob75@pitt.edu</td>\n",
       "      <td>cs-annotation-project</td>\n",
       "      <td>2023-03-18T20:54:54.000Z</td>\n",
       "      <td>2023-03-18T20:54:54.000Z</td>\n",
       "      <td>1664.856</td>\n",
       "      <td>0.000</td>\n",
       "      <td>...</td>\n",
       "      <td>-1</td>\n",
       "      <td>0</td>\n",
       "      <td>-1</td>\n",
       "      <td>NaN</td>\n",
       "      <td>text5</td>\n",
       "      <td>[]</td>\n",
       "      <td>https://editor.labelbox.com?project=clfbk7q941...</td>\n",
       "      <td>0</td>\n",
       "      <td>False</td>\n",
       "      <td>{'taskId': '84a4bf5c-a482-464a-8623-da3757c0f5...</td>\n",
       "    </tr>\n",
       "    <tr>\n",
       "      <th>3</th>\n",
       "      <td>clfeh5eam0l8g07zr7djaedpq</td>\n",
       "      <td>clfeb7o4k17e7079p5eo5hd9f</td>\n",
       "      <td>https://storage.labelbox.com/clfagslqv28u407zn...</td>\n",
       "      <td>{'objects': [{'featureId': 'clfeh5naw0002396jf...</td>\n",
       "      <td>mob75@pitt.edu</td>\n",
       "      <td>cs-annotation-project</td>\n",
       "      <td>2023-03-18T21:33:53.000Z</td>\n",
       "      <td>2023-03-19T14:32:23.000Z</td>\n",
       "      <td>1196.039</td>\n",
       "      <td>0.000</td>\n",
       "      <td>...</td>\n",
       "      <td>-1</td>\n",
       "      <td>0</td>\n",
       "      <td>-1</td>\n",
       "      <td>NaN</td>\n",
       "      <td>text6</td>\n",
       "      <td>[]</td>\n",
       "      <td>https://editor.labelbox.com?project=clfbk7q941...</td>\n",
       "      <td>0</td>\n",
       "      <td>False</td>\n",
       "      <td>{'taskName': 'Done', 'Workflow History': [{'ac...</td>\n",
       "    </tr>\n",
       "    <tr>\n",
       "      <th>4</th>\n",
       "      <td>clffjz71f17oh07yxdfyo65zo</td>\n",
       "      <td>clffjq06201n907a87jni6dom</td>\n",
       "      <td>https://storage.labelbox.com/clfagslqv28u407zn...</td>\n",
       "      <td>{'objects': [{'featureId': 'clffk6vxv0002396jh...</td>\n",
       "      <td>mob75@pitt.edu</td>\n",
       "      <td>cs-annotation-project</td>\n",
       "      <td>2023-03-19T15:48:36.000Z</td>\n",
       "      <td>2023-03-19T15:48:36.000Z</td>\n",
       "      <td>840.414</td>\n",
       "      <td>0.000</td>\n",
       "      <td>...</td>\n",
       "      <td>-1</td>\n",
       "      <td>0</td>\n",
       "      <td>-1</td>\n",
       "      <td>NaN</td>\n",
       "      <td>text11</td>\n",
       "      <td>[]</td>\n",
       "      <td>https://editor.labelbox.com?project=clfbk7q941...</td>\n",
       "      <td>0</td>\n",
       "      <td>False</td>\n",
       "      <td>{'taskName': 'Done', 'Workflow History': [{'ac...</td>\n",
       "    </tr>\n",
       "  </tbody>\n",
       "</table>\n",
       "<p>5 rows × 23 columns</p>\n",
       "</div>"
      ],
      "text/plain": [
       "                          ID                 DataRow ID  \\\n",
       "0  clfbk8guf04g5071jbrqo26bq  clfbcqidc3xmk07zvgxw373vk   \n",
       "1  clfbkxgaq0bes07012isv5rq9  clfbkqg468bwf07zc7n31dl3j   \n",
       "2  clfef6xx80t7207yzh33ohlgx  clfeb1kdn1yhb07895fdzagon   \n",
       "3  clfeh5eam0l8g07zr7djaedpq  clfeb7o4k17e7079p5eo5hd9f   \n",
       "4  clffjz71f17oh07yxdfyo65zo  clffjq06201n907a87jni6dom   \n",
       "\n",
       "                                        Labeled Data  \\\n",
       "0  https://storage.labelbox.com/clfagslqv28u407zn...   \n",
       "1  https://storage.labelbox.com/clfagslqv28u407zn...   \n",
       "2  https://storage.labelbox.com/clfagslqv28u407zn...   \n",
       "3  https://storage.labelbox.com/clfagslqv28u407zn...   \n",
       "4  https://storage.labelbox.com/clfagslqv28u407zn...   \n",
       "\n",
       "                                               Label      Created By  \\\n",
       "0  {'objects': [{'featureId': 'clfbk9dbf0002396jf...  mob75@pitt.edu   \n",
       "1  {'objects': [{'featureId': 'clfbkxma70002396jw...  mob75@pitt.edu   \n",
       "2  {'objects': [{'featureId': 'clfef75jw0002396jb...  mob75@pitt.edu   \n",
       "3  {'objects': [{'featureId': 'clfeh5naw0002396jf...  mob75@pitt.edu   \n",
       "4  {'objects': [{'featureId': 'clffk6vxv0002396jh...  mob75@pitt.edu   \n",
       "\n",
       "            Project Name                Created At                Updated At  \\\n",
       "0  cs-annotation-project  2023-03-16T20:36:16.000Z  2023-03-16T20:36:16.000Z   \n",
       "1  cs-annotation-project  2023-03-16T20:59:51.000Z  2023-03-16T20:59:51.000Z   \n",
       "2  cs-annotation-project  2023-03-18T20:54:54.000Z  2023-03-18T20:54:54.000Z   \n",
       "3  cs-annotation-project  2023-03-18T21:33:53.000Z  2023-03-19T14:32:23.000Z   \n",
       "4  cs-annotation-project  2023-03-19T15:48:36.000Z  2023-03-19T15:48:36.000Z   \n",
       "\n",
       "   Seconds to Label  Seconds to Review  ...  Agreement Is Benchmark  \\\n",
       "0           749.159             72.967  ...         -1            0   \n",
       "1           972.239              0.000  ...         -1            0   \n",
       "2          1664.856              0.000  ...         -1            0   \n",
       "3          1196.039              0.000  ...         -1            0   \n",
       "4           840.414              0.000  ...         -1            0   \n",
       "\n",
       "   Benchmark Agreement  Benchmark ID    Dataset Name  Reviews  \\\n",
       "0                   -1           NaN  cs-annotation1       []   \n",
       "1                   -1           NaN           text2       []   \n",
       "2                   -1           NaN           text5       []   \n",
       "3                   -1           NaN           text6       []   \n",
       "4                   -1           NaN          text11       []   \n",
       "\n",
       "                                          View Label Has Open Issues Skipped  \\\n",
       "0  https://editor.labelbox.com?project=clfbk7q941...               0   False   \n",
       "1  https://editor.labelbox.com?project=clfbk7q941...               0   False   \n",
       "2  https://editor.labelbox.com?project=clfbk7q941...               0   False   \n",
       "3  https://editor.labelbox.com?project=clfbk7q941...               0   False   \n",
       "4  https://editor.labelbox.com?project=clfbk7q941...               0   False   \n",
       "\n",
       "                               DataRow Workflow Info  \n",
       "0  {'taskName': 'Done', 'Workflow History': [{'ac...  \n",
       "1  {'taskName': 'Done', 'Workflow History': [{'ac...  \n",
       "2  {'taskId': '84a4bf5c-a482-464a-8623-da3757c0f5...  \n",
       "3  {'taskName': 'Done', 'Workflow History': [{'ac...  \n",
       "4  {'taskName': 'Done', 'Workflow History': [{'ac...  \n",
       "\n",
       "[5 rows x 23 columns]"
      ]
     },
     "execution_count": 203,
     "metadata": {},
     "output_type": "execute_result"
    }
   ],
   "source": [
    "# reading JSON file\n",
    "df = pd.read_json('/Users/aidyn/Documents/Data_Science/Kazakh-Russian-Code-Switching-Analysis/annotated-data-samples/export-2023-03-19T20_19_44.671Z.json')\n",
    "\n",
    "# displaying sample output\n",
    "df.head()\n"
   ]
  },
  {
   "cell_type": "code",
   "execution_count": 204,
   "id": "5a6d2cda",
   "metadata": {},
   "outputs": [
    {
     "name": "stdout",
     "output_type": "stream",
     "text": [
      "https://storage.labelbox.com/clfagslqv28u407zn55sthytz%2F4669a93f-90a9-e7bc-869e-6674927e3870-BABEL_OP2_302_96842_20140131_154710_inLine.txt?Expires=1680466786135&KeyName=labelbox-assets-key-3&Signature=u3gipVbP58L93HUfcgCFcd3EtqU\n",
      "https://storage.labelbox.com/clfagslqv28u407zn55sthytz%2Fb1f1e43f-d07a-f08e-8ba1-317c48254edb-BABEL_OP2_302_95583_20131112_203137_outLine.txt?Expires=1680466786139&KeyName=labelbox-assets-key-3&Signature=kU7HEEcR6jNPul5lv48-Fg4Tl6k\n",
      "https://storage.labelbox.com/clfagslqv28u407zn55sthytz%2F140ef9d3-6f66-97aa-86fe-7c1064aefd68-BABEL_OP2_302_93475_20131115_203137_outLine.txt?Expires=1680466786140&KeyName=labelbox-assets-key-3&Signature=k-eN8XWROzIZ7VMxtXvXunIwAYU\n"
     ]
    }
   ],
   "source": [
    "for i in df['Labeled Data'][:3]:\n",
    "    print(i)"
   ]
  },
  {
   "cell_type": "markdown",
   "id": "3fe216bc",
   "metadata": {},
   "source": [
    "- Cyrillic characters are not recognized!"
   ]
  },
  {
   "cell_type": "code",
   "execution_count": 205,
   "id": "d228a606",
   "metadata": {},
   "outputs": [
    {
     "name": "stdout",
     "output_type": "stream",
     "text": [
      "https://editor.labelbox.com?project=clfbk7q941djz07ymacjs9pqs&label=clfbk8guf04g5071jbrqo26bq\n",
      "https://editor.labelbox.com?project=clfbk7q941djz07ymacjs9pqs&label=clfbkxgaq0bes07012isv5rq9\n",
      "https://editor.labelbox.com?project=clfbk7q941djz07ymacjs9pqs&label=clfef6xx80t7207yzh33ohlgx\n"
     ]
    }
   ],
   "source": [
    "for i in df['View Label'][:3]:\n",
    "    print(i)"
   ]
  },
  {
   "cell_type": "markdown",
   "id": "645a2322",
   "metadata": {},
   "source": [
    "- I can view each annotated file and show examples.."
   ]
  },
  {
   "cell_type": "code",
   "execution_count": 206,
   "id": "c2937b62",
   "metadata": {},
   "outputs": [
    {
     "name": "stdout",
     "output_type": "stream",
     "text": [
      "<class 'pandas.core.frame.DataFrame'>\n",
      "RangeIndex: 14 entries, 0 to 13\n",
      "Data columns (total 23 columns):\n",
      " #   Column                 Non-Null Count  Dtype  \n",
      "---  ------                 --------------  -----  \n",
      " 0   ID                     14 non-null     object \n",
      " 1   DataRow ID             14 non-null     object \n",
      " 2   Labeled Data           14 non-null     object \n",
      " 3   Label                  14 non-null     object \n",
      " 4   Created By             14 non-null     object \n",
      " 5   Project Name           14 non-null     object \n",
      " 6   Created At             14 non-null     object \n",
      " 7   Updated At             14 non-null     object \n",
      " 8   Seconds to Label       14 non-null     float64\n",
      " 9   Seconds to Review      14 non-null     float64\n",
      " 10  Seconds to Create      14 non-null     float64\n",
      " 11  External ID            14 non-null     object \n",
      " 12  Global Key             0 non-null      float64\n",
      " 13  Agreement              14 non-null     int64  \n",
      " 14  Is Benchmark           14 non-null     int64  \n",
      " 15  Benchmark Agreement    14 non-null     int64  \n",
      " 16  Benchmark ID           0 non-null      float64\n",
      " 17  Dataset Name           14 non-null     object \n",
      " 18  Reviews                14 non-null     object \n",
      " 19  View Label             14 non-null     object \n",
      " 20  Has Open Issues        14 non-null     int64  \n",
      " 21  Skipped                14 non-null     bool   \n",
      " 22  DataRow Workflow Info  14 non-null     object \n",
      "dtypes: bool(1), float64(5), int64(4), object(13)\n",
      "memory usage: 2.5+ KB\n"
     ]
    }
   ],
   "source": [
    "df.info()"
   ]
  },
  {
   "cell_type": "code",
   "execution_count": 207,
   "id": "7a916ec7",
   "metadata": {},
   "outputs": [
    {
     "data": {
      "text/html": [
       "<div>\n",
       "<style scoped>\n",
       "    .dataframe tbody tr th:only-of-type {\n",
       "        vertical-align: middle;\n",
       "    }\n",
       "\n",
       "    .dataframe tbody tr th {\n",
       "        vertical-align: top;\n",
       "    }\n",
       "\n",
       "    .dataframe thead th {\n",
       "        text-align: right;\n",
       "    }\n",
       "</style>\n",
       "<table border=\"1\" class=\"dataframe\">\n",
       "  <thead>\n",
       "    <tr style=\"text-align: right;\">\n",
       "      <th></th>\n",
       "      <th>External ID</th>\n",
       "      <th>View Tag</th>\n",
       "      <th>Seconds to Tag</th>\n",
       "      <th>Tags</th>\n",
       "    </tr>\n",
       "  </thead>\n",
       "  <tbody>\n",
       "    <tr>\n",
       "      <th>3</th>\n",
       "      <td>BABEL_OP2_302_93320_20140218_173001_outLine.txt</td>\n",
       "      <td>https://editor.labelbox.com?project=clfbk7q941...</td>\n",
       "      <td>1196.039</td>\n",
       "      <td>{'objects': [{'featureId': 'clfeh5naw0002396jf...</td>\n",
       "    </tr>\n",
       "    <tr>\n",
       "      <th>10</th>\n",
       "      <td>BABEL_OP2_302_86557_20131121_000022_inLine.txt</td>\n",
       "      <td>https://editor.labelbox.com?project=clfbk7q941...</td>\n",
       "      <td>965.589</td>\n",
       "      <td>{'objects': [{'featureId': 'clffrealm0002396jg...</td>\n",
       "    </tr>\n",
       "    <tr>\n",
       "      <th>2</th>\n",
       "      <td>BABEL_OP2_302_93475_20131115_203137_outLine.txt</td>\n",
       "      <td>https://editor.labelbox.com?project=clfbk7q941...</td>\n",
       "      <td>1664.856</td>\n",
       "      <td>{'objects': [{'featureId': 'clfef75jw0002396jb...</td>\n",
       "    </tr>\n",
       "    <tr>\n",
       "      <th>13</th>\n",
       "      <td>BABEL_OP2_302_87889_20140119_163150_outLine.txt</td>\n",
       "      <td>https://editor.labelbox.com?project=clfbk7q941...</td>\n",
       "      <td>737.941</td>\n",
       "      <td>{'objects': [{'featureId': 'clfftuhqt012g396j3...</td>\n",
       "    </tr>\n",
       "    <tr>\n",
       "      <th>1</th>\n",
       "      <td>BABEL_OP2_302_95583_20131112_203137_outLine.txt</td>\n",
       "      <td>https://editor.labelbox.com?project=clfbk7q941...</td>\n",
       "      <td>972.239</td>\n",
       "      <td>{'objects': [{'featureId': 'clfbkxma70002396jw...</td>\n",
       "    </tr>\n",
       "  </tbody>\n",
       "</table>\n",
       "</div>"
      ],
      "text/plain": [
       "                                        External ID  \\\n",
       "3   BABEL_OP2_302_93320_20140218_173001_outLine.txt   \n",
       "10   BABEL_OP2_302_86557_20131121_000022_inLine.txt   \n",
       "2   BABEL_OP2_302_93475_20131115_203137_outLine.txt   \n",
       "13  BABEL_OP2_302_87889_20140119_163150_outLine.txt   \n",
       "1   BABEL_OP2_302_95583_20131112_203137_outLine.txt   \n",
       "\n",
       "                                             View Tag  Seconds to Tag  \\\n",
       "3   https://editor.labelbox.com?project=clfbk7q941...        1196.039   \n",
       "10  https://editor.labelbox.com?project=clfbk7q941...         965.589   \n",
       "2   https://editor.labelbox.com?project=clfbk7q941...        1664.856   \n",
       "13  https://editor.labelbox.com?project=clfbk7q941...         737.941   \n",
       "1   https://editor.labelbox.com?project=clfbk7q941...         972.239   \n",
       "\n",
       "                                                 Tags  \n",
       "3   {'objects': [{'featureId': 'clfeh5naw0002396jf...  \n",
       "10  {'objects': [{'featureId': 'clffrealm0002396jg...  \n",
       "2   {'objects': [{'featureId': 'clfef75jw0002396jb...  \n",
       "13  {'objects': [{'featureId': 'clfftuhqt012g396j3...  \n",
       "1   {'objects': [{'featureId': 'clfbkxma70002396jw...  "
      ]
     },
     "execution_count": 207,
     "metadata": {},
     "output_type": "execute_result"
    }
   ],
   "source": [
    "# Extract only necessary columns\n",
    "df_test2_old = df[['Label', 'Seconds to Label', 'External ID','View Label']]\n",
    "df_test2 = df_test2_old[['External ID','View Label', 'Seconds to Label', 'Label']].rename(columns={'View Label':'View Tag', 'Seconds to Label':'Seconds to Tag','Label':'Tags'}) \n",
    "df_test2.sample(5)"
   ]
  },
  {
   "cell_type": "code",
   "execution_count": 208,
   "id": "7a847e8c",
   "metadata": {},
   "outputs": [
    {
     "name": "stdout",
     "output_type": "stream",
     "text": [
      "<class 'pandas.core.frame.DataFrame'>\n",
      "RangeIndex: 14 entries, 0 to 13\n",
      "Data columns (total 4 columns):\n",
      " #   Column          Non-Null Count  Dtype  \n",
      "---  ------          --------------  -----  \n",
      " 0   External ID     14 non-null     object \n",
      " 1   View Tag        14 non-null     object \n",
      " 2   Seconds to Tag  14 non-null     float64\n",
      " 3   Tags            14 non-null     object \n",
      "dtypes: float64(1), object(3)\n",
      "memory usage: 576.0+ bytes\n"
     ]
    }
   ],
   "source": [
    "df_test2.info()"
   ]
  },
  {
   "cell_type": "code",
   "execution_count": 286,
   "id": "70cfcdd7",
   "metadata": {},
   "outputs": [
    {
     "data": {
      "text/html": [
       "<div>\n",
       "<style scoped>\n",
       "    .dataframe tbody tr th:only-of-type {\n",
       "        vertical-align: middle;\n",
       "    }\n",
       "\n",
       "    .dataframe tbody tr th {\n",
       "        vertical-align: top;\n",
       "    }\n",
       "\n",
       "    .dataframe thead th {\n",
       "        text-align: right;\n",
       "    }\n",
       "</style>\n",
       "<table border=\"1\" class=\"dataframe\">\n",
       "  <thead>\n",
       "    <tr style=\"text-align: right;\">\n",
       "      <th></th>\n",
       "      <th>External ID</th>\n",
       "      <th>View Tag</th>\n",
       "      <th>Seconds to Tag</th>\n",
       "      <th>Tags</th>\n",
       "      <th>Tagged Rows</th>\n",
       "    </tr>\n",
       "  </thead>\n",
       "  <tbody>\n",
       "    <tr>\n",
       "      <th>3</th>\n",
       "      <td>BABEL_OP2_302_93320_20140218_173001_outLine.txt</td>\n",
       "      <td>https://editor.labelbox.com?project=clfbk7q941...</td>\n",
       "      <td>1196.039</td>\n",
       "      <td>{'objects': [{'featureId': 'clfeh5naw0002396jf...</td>\n",
       "      <td>9</td>\n",
       "    </tr>\n",
       "    <tr>\n",
       "      <th>9</th>\n",
       "      <td>BABEL_OP2_302_90080_20140120_230635_outLine.txt</td>\n",
       "      <td>https://editor.labelbox.com?project=clfbk7q941...</td>\n",
       "      <td>535.854</td>\n",
       "      <td>{'objects': [{'featureId': 'clffqq2zj00bd396jx...</td>\n",
       "      <td>9</td>\n",
       "    </tr>\n",
       "    <tr>\n",
       "      <th>8</th>\n",
       "      <td>BABEL_OP2_302_90080_20140120_230635_inLine.txt</td>\n",
       "      <td>https://editor.labelbox.com?project=clfbk7q941...</td>\n",
       "      <td>698.394</td>\n",
       "      <td>{'objects': [{'featureId': 'clffqb8la0002396jl...</td>\n",
       "      <td>9</td>\n",
       "    </tr>\n",
       "    <tr>\n",
       "      <th>6</th>\n",
       "      <td>BABEL_OP2_302_91593_20140215_175049_outLine.txt</td>\n",
       "      <td>https://editor.labelbox.com?project=clfbk7q941...</td>\n",
       "      <td>830.769</td>\n",
       "      <td>{'objects': [{'featureId': 'clffmg0sy0002396jx...</td>\n",
       "      <td>9</td>\n",
       "    </tr>\n",
       "    <tr>\n",
       "      <th>11</th>\n",
       "      <td>BABEL_OP2_302_86557_20131121_000022_outLine.txt</td>\n",
       "      <td>https://editor.labelbox.com?project=clfbk7q941...</td>\n",
       "      <td>1615.877</td>\n",
       "      <td>{'objects': [{'featureId': 'clffrwdo900ai396jf...</td>\n",
       "      <td>9</td>\n",
       "    </tr>\n",
       "  </tbody>\n",
       "</table>\n",
       "</div>"
      ],
      "text/plain": [
       "                                        External ID  \\\n",
       "3   BABEL_OP2_302_93320_20140218_173001_outLine.txt   \n",
       "9   BABEL_OP2_302_90080_20140120_230635_outLine.txt   \n",
       "8    BABEL_OP2_302_90080_20140120_230635_inLine.txt   \n",
       "6   BABEL_OP2_302_91593_20140215_175049_outLine.txt   \n",
       "11  BABEL_OP2_302_86557_20131121_000022_outLine.txt   \n",
       "\n",
       "                                             View Tag  Seconds to Tag  \\\n",
       "3   https://editor.labelbox.com?project=clfbk7q941...        1196.039   \n",
       "9   https://editor.labelbox.com?project=clfbk7q941...         535.854   \n",
       "8   https://editor.labelbox.com?project=clfbk7q941...         698.394   \n",
       "6   https://editor.labelbox.com?project=clfbk7q941...         830.769   \n",
       "11  https://editor.labelbox.com?project=clfbk7q941...        1615.877   \n",
       "\n",
       "                                                 Tags  Tagged Rows  \n",
       "3   {'objects': [{'featureId': 'clfeh5naw0002396jf...            9  \n",
       "9   {'objects': [{'featureId': 'clffqq2zj00bd396jx...            9  \n",
       "8   {'objects': [{'featureId': 'clffqb8la0002396jl...            9  \n",
       "6   {'objects': [{'featureId': 'clffmg0sy0002396jx...            9  \n",
       "11  {'objects': [{'featureId': 'clffrwdo900ai396jf...            9  "
      ]
     },
     "execution_count": 286,
     "metadata": {},
     "output_type": "execute_result"
    }
   ],
   "source": [
    "df_test2['Tagged Rows'] = pd.Series(df_test2['Tags'][0]['objects']).map(lambda x:len(x))\n",
    "df_test2.sample(5)\n",
    "# len(df_test2['Tags'][0]['objects'])"
   ]
  },
  {
   "cell_type": "code",
   "execution_count": 238,
   "id": "f3b8178b",
   "metadata": {},
   "outputs": [
    {
     "data": {
      "text/plain": [
       "{'featureId': 'clfbk9dbf0002396jfl1k6gpk',\n",
       " 'schemaId': 'clfbcpdz013ua07zn9k319jn3',\n",
       " 'color': '#1CE6FF',\n",
       " 'title': 'uttr',\n",
       " 'value': 'uttr',\n",
       " 'version': 1,\n",
       " 'format': 'text.location',\n",
       " 'data': {'location': {'start': 151, 'end': 211}},\n",
       " 'classifications': [{'featureId': 'clfbk9hrj0004396jaxr9fvb7',\n",
       "   'schemaId': 'clfbcpdz013ub07zn8cw44wpj',\n",
       "   'title': 'lang',\n",
       "   'value': 'lang',\n",
       "   'position': 0,\n",
       "   'answer': {'featureId': 'clfbk9hrj0003396jlk95obai',\n",
       "    'schemaId': 'clfbcpdz013uc07zn8vjl7q45',\n",
       "    'title': 'kz',\n",
       "    'value': 'kz',\n",
       "    'position': 0}}]}"
      ]
     },
     "execution_count": 238,
     "metadata": {},
     "output_type": "execute_result"
    }
   ],
   "source": [
    "df_test2['Tagged Rows'][0]"
   ]
  },
  {
   "cell_type": "code",
   "execution_count": 236,
   "id": "3a6a69d7",
   "metadata": {},
   "outputs": [
    {
     "data": {
      "text/plain": [
       "pandas.core.series.Series"
      ]
     },
     "execution_count": 236,
     "metadata": {},
     "output_type": "execute_result"
    }
   ],
   "source": [
    "type(pd.Series(df_test2['Tags'][0]['objects']))"
   ]
  },
  {
   "cell_type": "code",
   "execution_count": 248,
   "id": "5e422b58",
   "metadata": {},
   "outputs": [
    {
     "data": {
      "text/plain": [
       "dict_items([('featureId', 'clfbk9dbf0002396jfl1k6gpk'), ('schemaId', 'clfbcpdz013ua07zn9k319jn3'), ('color', '#1CE6FF'), ('title', 'uttr'), ('value', 'uttr'), ('version', 1), ('format', 'text.location'), ('data', {'location': {'start': 151, 'end': 211}}), ('classifications', [{'featureId': 'clfbk9hrj0004396jaxr9fvb7', 'schemaId': 'clfbcpdz013ub07zn8cw44wpj', 'title': 'lang', 'value': 'lang', 'position': 0, 'answer': {'featureId': 'clfbk9hrj0003396jlk95obai', 'schemaId': 'clfbcpdz013uc07zn8vjl7q45', 'title': 'kz', 'value': 'kz', 'position': 0}}])])"
      ]
     },
     "execution_count": 248,
     "metadata": {},
     "output_type": "execute_result"
    }
   ],
   "source": [
    "df_test2['Tags'][0]['objects'][0].items()"
   ]
  },
  {
   "cell_type": "code",
   "execution_count": 241,
   "id": "39f1e620",
   "metadata": {},
   "outputs": [
    {
     "data": {
      "text/plain": [
       "'clfbk9dbf0002396jfl1k6gpk'"
      ]
     },
     "execution_count": 241,
     "metadata": {},
     "output_type": "execute_result"
    }
   ],
   "source": [
    "df_test2['Tags'][0]['objects'][0]['featureId']"
   ]
  },
  {
   "cell_type": "code",
   "execution_count": 243,
   "id": "d7872e45",
   "metadata": {},
   "outputs": [
    {
     "data": {
      "text/plain": [
       "3"
      ]
     },
     "execution_count": 243,
     "metadata": {},
     "output_type": "execute_result"
    }
   ],
   "source": [
    "len(df_test2['Tags'][0])"
   ]
  },
  {
   "cell_type": "markdown",
   "id": "f673c789",
   "metadata": {},
   "source": [
    "### Parse Tags column"
   ]
  },
  {
   "cell_type": "code",
   "execution_count": 209,
   "id": "afe45160",
   "metadata": {},
   "outputs": [
    {
     "name": "stdout",
     "output_type": "stream",
     "text": [
      "objects\n",
      "classifications\n",
      "relationships\n"
     ]
    }
   ],
   "source": [
    "for i in df_test2['Tags'][0]:\n",
    "    print(i)"
   ]
  },
  {
   "cell_type": "code",
   "execution_count": 210,
   "id": "e8237e21",
   "metadata": {},
   "outputs": [
    {
     "data": {
      "text/html": [
       "<div>\n",
       "<style scoped>\n",
       "    .dataframe tbody tr th:only-of-type {\n",
       "        vertical-align: middle;\n",
       "    }\n",
       "\n",
       "    .dataframe tbody tr th {\n",
       "        vertical-align: top;\n",
       "    }\n",
       "\n",
       "    .dataframe thead th {\n",
       "        text-align: right;\n",
       "    }\n",
       "</style>\n",
       "<table border=\"1\" class=\"dataframe\">\n",
       "  <thead>\n",
       "    <tr style=\"text-align: right;\">\n",
       "      <th></th>\n",
       "      <th>featureId</th>\n",
       "      <th>schemaId</th>\n",
       "      <th>color</th>\n",
       "      <th>title</th>\n",
       "      <th>value</th>\n",
       "      <th>version</th>\n",
       "      <th>format</th>\n",
       "      <th>data</th>\n",
       "      <th>classifications</th>\n",
       "    </tr>\n",
       "  </thead>\n",
       "  <tbody>\n",
       "    <tr>\n",
       "      <th>493</th>\n",
       "      <td>clffmub6l0094396jg2c07qov</td>\n",
       "      <td>clfbcpdz013ua07zn9k319jn3</td>\n",
       "      <td>#1CE6FF</td>\n",
       "      <td>uttr</td>\n",
       "      <td>uttr</td>\n",
       "      <td>1</td>\n",
       "      <td>text.location</td>\n",
       "      <td>{'location': {'start': 171, 'end': 188}}</td>\n",
       "      <td>[{'featureId': 'clffmucj90096396jvagktll9', 's...</td>\n",
       "    </tr>\n",
       "    <tr>\n",
       "      <th>2</th>\n",
       "      <td>clfbkajp7000h396jticb6tb7</td>\n",
       "      <td>clfbcpdz013ua07zn9k319jn3</td>\n",
       "      <td>#1CE6FF</td>\n",
       "      <td>uttr</td>\n",
       "      <td>uttr</td>\n",
       "      <td>1</td>\n",
       "      <td>text.location</td>\n",
       "      <td>{'location': {'start': 313, 'end': 387}}</td>\n",
       "      <td>[{'featureId': 'clfbkal14000j396jo0ry3eb8', 's...</td>\n",
       "    </tr>\n",
       "    <tr>\n",
       "      <th>703</th>\n",
       "      <td>clffrezj2000m396jki7k0cft</td>\n",
       "      <td>clfbcpdz013ua07zn9k319jn3</td>\n",
       "      <td>#1CE6FF</td>\n",
       "      <td>uttr</td>\n",
       "      <td>uttr</td>\n",
       "      <td>1</td>\n",
       "      <td>text.location</td>\n",
       "      <td>{'location': {'start': 341, 'end': 352}}</td>\n",
       "      <td>[{'featureId': 'clffrf12k000o396ja06rjtk8', 's...</td>\n",
       "    </tr>\n",
       "    <tr>\n",
       "      <th>618</th>\n",
       "      <td>clffqmot90090396jmaha6mcb</td>\n",
       "      <td>clfbcpdz013ua07zn9k319jn3</td>\n",
       "      <td>#1CE6FF</td>\n",
       "      <td>uttr</td>\n",
       "      <td>uttr</td>\n",
       "      <td>1</td>\n",
       "      <td>text.location</td>\n",
       "      <td>{'location': {'start': 5204, 'end': 5229}}</td>\n",
       "      <td>[{'featureId': 'clffqmpwi0092396jmy4o2ktv', 's...</td>\n",
       "    </tr>\n",
       "    <tr>\n",
       "      <th>725</th>\n",
       "      <td>clffrl59i004j396j0yfysa3y</td>\n",
       "      <td>clfbcpdz013ua07zn9k319jn3</td>\n",
       "      <td>#1CE6FF</td>\n",
       "      <td>uttr</td>\n",
       "      <td>uttr</td>\n",
       "      <td>1</td>\n",
       "      <td>text.location</td>\n",
       "      <td>{'location': {'start': 2652, 'end': 2702}}</td>\n",
       "      <td>[{'featureId': 'clffrl6pz004l396jnph3bv4u', 's...</td>\n",
       "    </tr>\n",
       "  </tbody>\n",
       "</table>\n",
       "</div>"
      ],
      "text/plain": [
       "                     featureId                   schemaId    color title  \\\n",
       "493  clffmub6l0094396jg2c07qov  clfbcpdz013ua07zn9k319jn3  #1CE6FF  uttr   \n",
       "2    clfbkajp7000h396jticb6tb7  clfbcpdz013ua07zn9k319jn3  #1CE6FF  uttr   \n",
       "703  clffrezj2000m396jki7k0cft  clfbcpdz013ua07zn9k319jn3  #1CE6FF  uttr   \n",
       "618  clffqmot90090396jmaha6mcb  clfbcpdz013ua07zn9k319jn3  #1CE6FF  uttr   \n",
       "725  clffrl59i004j396j0yfysa3y  clfbcpdz013ua07zn9k319jn3  #1CE6FF  uttr   \n",
       "\n",
       "    value  version         format                                        data  \\\n",
       "493  uttr        1  text.location    {'location': {'start': 171, 'end': 188}}   \n",
       "2    uttr        1  text.location    {'location': {'start': 313, 'end': 387}}   \n",
       "703  uttr        1  text.location    {'location': {'start': 341, 'end': 352}}   \n",
       "618  uttr        1  text.location  {'location': {'start': 5204, 'end': 5229}}   \n",
       "725  uttr        1  text.location  {'location': {'start': 2652, 'end': 2702}}   \n",
       "\n",
       "                                       classifications  \n",
       "493  [{'featureId': 'clffmucj90096396jvagktll9', 's...  \n",
       "2    [{'featureId': 'clfbkal14000j396jo0ry3eb8', 's...  \n",
       "703  [{'featureId': 'clffrf12k000o396ja06rjtk8', 's...  \n",
       "618  [{'featureId': 'clffqmpwi0092396jmy4o2ktv', 's...  \n",
       "725  [{'featureId': 'clffrl6pz004l396jnph3bv4u', 's...  "
      ]
     },
     "execution_count": 210,
     "metadata": {},
     "output_type": "execute_result"
    }
   ],
   "source": [
    "tags_df_1 = df_test2['Tags'][0]['objects']\n",
    "tags_df_2 = df_test2['Tags'][1]['objects']\n",
    "tags_df_3 = df_test2['Tags'][2]['objects']\n",
    "tags_df_4 = df_test2['Tags'][3]['objects']\n",
    "tags_df_5 = df_test2['Tags'][4]['objects']\n",
    "tags_df_6 = df_test2['Tags'][5]['objects']\n",
    "tags_df_7 = df_test2['Tags'][6]['objects']\n",
    "tags_df_8 = df_test2['Tags'][7]['objects']\n",
    "tags_df_9 = df_test2['Tags'][8]['objects']\n",
    "tags_df_10 = df_test2['Tags'][9]['objects']\n",
    "tags_df_11 = df_test2['Tags'][10]['objects']\n",
    "tags_df_12 = df_test2['Tags'][11]['objects']\n",
    "tags_df_13 = df_test2['Tags'][12]['objects']\n",
    "tags_df_14 = df_test2['Tags'][13]['objects']\n",
    "\n",
    "tags_list = tags_df_1 + tags_df_2 + tags_df_3 + tags_df_4 + tags_df_5 + tags_df_6 + tags_df_7 + tags_df_8 + tags_df_9 + tags_df_10  + tags_df_11 + tags_df_12 + tags_df_13 + tags_df_14\n",
    "\n",
    "tags_df = pd.DataFrame(tags_list)\n",
    "tags_df.sample(5)"
   ]
  },
  {
   "cell_type": "code",
   "execution_count": 211,
   "id": "3634cfa5",
   "metadata": {},
   "outputs": [
    {
     "data": {
      "text/plain": [
       "1052"
      ]
     },
     "execution_count": 211,
     "metadata": {},
     "output_type": "execute_result"
    }
   ],
   "source": [
    "len(tags_df)"
   ]
  },
  {
   "cell_type": "code",
   "execution_count": 212,
   "id": "f6f0ade4",
   "metadata": {},
   "outputs": [
    {
     "name": "stdout",
     "output_type": "stream",
     "text": [
      "<class 'pandas.core.frame.DataFrame'>\n",
      "RangeIndex: 1052 entries, 0 to 1051\n",
      "Data columns (total 9 columns):\n",
      " #   Column           Non-Null Count  Dtype \n",
      "---  ------           --------------  ----- \n",
      " 0   featureId        1052 non-null   object\n",
      " 1   schemaId         1052 non-null   object\n",
      " 2   color            1052 non-null   object\n",
      " 3   title            1052 non-null   object\n",
      " 4   value            1052 non-null   object\n",
      " 5   version          1052 non-null   int64 \n",
      " 6   format           1052 non-null   object\n",
      " 7   data             1052 non-null   object\n",
      " 8   classifications  1051 non-null   object\n",
      "dtypes: int64(1), object(8)\n",
      "memory usage: 74.1+ KB\n"
     ]
    }
   ],
   "source": [
    "tags_df.info()"
   ]
  },
  {
   "cell_type": "code",
   "execution_count": 213,
   "id": "bf388ae4",
   "metadata": {},
   "outputs": [
    {
     "data": {
      "text/plain": [
       "3"
      ]
     },
     "execution_count": 213,
     "metadata": {},
     "output_type": "execute_result"
    }
   ],
   "source": [
    "tag_dic = df_test2['Tags'].to_dict()\n",
    "len(tag_dic[0])"
   ]
  },
  {
   "cell_type": "code",
   "execution_count": 214,
   "id": "c162162e",
   "metadata": {},
   "outputs": [
    {
     "data": {
      "text/plain": [
       "14"
      ]
     },
     "execution_count": 214,
     "metadata": {},
     "output_type": "execute_result"
    }
   ],
   "source": [
    "len(tag_dic)"
   ]
  },
  {
   "cell_type": "code",
   "execution_count": 215,
   "id": "2fee5a1d",
   "metadata": {},
   "outputs": [],
   "source": [
    "# tag_dic['Label']['objects']['classifications']"
   ]
  },
  {
   "cell_type": "code",
   "execution_count": 216,
   "id": "1373d0d0",
   "metadata": {},
   "outputs": [
    {
     "data": {
      "text/plain": [
       "uttr    905\n",
       "cs      147\n",
       "Name: title, dtype: int64"
      ]
     },
     "execution_count": 216,
     "metadata": {},
     "output_type": "execute_result"
    }
   ],
   "source": [
    "tags_df['title'].value_counts()"
   ]
  },
  {
   "cell_type": "code",
   "execution_count": 217,
   "id": "a27168ec",
   "metadata": {},
   "outputs": [],
   "source": [
    "answer_list = dict_get(tags_df['classifications'],'answer')"
   ]
  },
  {
   "cell_type": "code",
   "execution_count": 218,
   "id": "14e55c06",
   "metadata": {},
   "outputs": [
    {
     "data": {
      "text/html": [
       "<div>\n",
       "<style scoped>\n",
       "    .dataframe tbody tr th:only-of-type {\n",
       "        vertical-align: middle;\n",
       "    }\n",
       "\n",
       "    .dataframe tbody tr th {\n",
       "        vertical-align: top;\n",
       "    }\n",
       "\n",
       "    .dataframe thead th {\n",
       "        text-align: right;\n",
       "    }\n",
       "</style>\n",
       "<table border=\"1\" class=\"dataframe\">\n",
       "  <thead>\n",
       "    <tr style=\"text-align: right;\">\n",
       "      <th></th>\n",
       "      <th>featureId</th>\n",
       "      <th>schemaId</th>\n",
       "      <th>title</th>\n",
       "      <th>value</th>\n",
       "      <th>position</th>\n",
       "    </tr>\n",
       "  </thead>\n",
       "  <tbody>\n",
       "    <tr>\n",
       "      <th>0</th>\n",
       "      <td>clfbk9hrj0003396jlk95obai</td>\n",
       "      <td>clfbcpdz013uc07zn8vjl7q45</td>\n",
       "      <td>kz</td>\n",
       "      <td>kz</td>\n",
       "      <td>0</td>\n",
       "    </tr>\n",
       "    <tr>\n",
       "      <th>1</th>\n",
       "      <td>clfbk9sie0008396jckkidvdl</td>\n",
       "      <td>clfbcpdz013uc07zn8vjl7q45</td>\n",
       "      <td>kz</td>\n",
       "      <td>kz</td>\n",
       "      <td>0</td>\n",
       "    </tr>\n",
       "    <tr>\n",
       "      <th>2</th>\n",
       "      <td>clfbkal14000i396jlhysk84v</td>\n",
       "      <td>clfbcpdz013uc07zn8vjl7q45</td>\n",
       "      <td>kz</td>\n",
       "      <td>kz</td>\n",
       "      <td>0</td>\n",
       "    </tr>\n",
       "    <tr>\n",
       "      <th>3</th>\n",
       "      <td>clfbkarhn000n396j20edd2if</td>\n",
       "      <td>clfbcpdz013uc07zn8vjl7q45</td>\n",
       "      <td>kz</td>\n",
       "      <td>kz</td>\n",
       "      <td>0</td>\n",
       "    </tr>\n",
       "    <tr>\n",
       "      <th>4</th>\n",
       "      <td>clfbkb2up000s396j4qiaybx0</td>\n",
       "      <td>clfbcpdz013uc07zn8vjl7q45</td>\n",
       "      <td>kz</td>\n",
       "      <td>kz</td>\n",
       "      <td>0</td>\n",
       "    </tr>\n",
       "    <tr>\n",
       "      <th>...</th>\n",
       "      <td>...</td>\n",
       "      <td>...</td>\n",
       "      <td>...</td>\n",
       "      <td>...</td>\n",
       "      <td>...</td>\n",
       "    </tr>\n",
       "    <tr>\n",
       "      <th>1046</th>\n",
       "      <td>clffu9eh401cw396jmex3ex42</td>\n",
       "      <td>clfbcpdz013uc07zn8vjl7q45</td>\n",
       "      <td>kz</td>\n",
       "      <td>kz</td>\n",
       "      <td>0</td>\n",
       "    </tr>\n",
       "    <tr>\n",
       "      <th>1047</th>\n",
       "      <td>clffu9lz101d1396j5y4ygjft</td>\n",
       "      <td>clfbcpdz013uc07zn8vjl7q45</td>\n",
       "      <td>kz</td>\n",
       "      <td>kz</td>\n",
       "      <td>0</td>\n",
       "    </tr>\n",
       "    <tr>\n",
       "      <th>1048</th>\n",
       "      <td>clffu9uu201d6396j4f8zy178</td>\n",
       "      <td>clfbcpdz013uc07zn8vjl7q45</td>\n",
       "      <td>kz</td>\n",
       "      <td>kz</td>\n",
       "      <td>0</td>\n",
       "    </tr>\n",
       "    <tr>\n",
       "      <th>1049</th>\n",
       "      <td>clffu744c01bn396jtuxtxlqp</td>\n",
       "      <td>clfbcpdz113v807zn2q2y9ck4</td>\n",
       "      <td>morph</td>\n",
       "      <td>morph</td>\n",
       "      <td>5</td>\n",
       "    </tr>\n",
       "    <tr>\n",
       "      <th>1050</th>\n",
       "      <td>clffu96e101cr396jzm1m8a78</td>\n",
       "      <td>clfbcpdz113uo07znh96wdg4o</td>\n",
       "      <td>disc</td>\n",
       "      <td>disc</td>\n",
       "      <td>0</td>\n",
       "    </tr>\n",
       "  </tbody>\n",
       "</table>\n",
       "<p>1051 rows × 5 columns</p>\n",
       "</div>"
      ],
      "text/plain": [
       "                      featureId                   schemaId  title  value  \\\n",
       "0     clfbk9hrj0003396jlk95obai  clfbcpdz013uc07zn8vjl7q45     kz     kz   \n",
       "1     clfbk9sie0008396jckkidvdl  clfbcpdz013uc07zn8vjl7q45     kz     kz   \n",
       "2     clfbkal14000i396jlhysk84v  clfbcpdz013uc07zn8vjl7q45     kz     kz   \n",
       "3     clfbkarhn000n396j20edd2if  clfbcpdz013uc07zn8vjl7q45     kz     kz   \n",
       "4     clfbkb2up000s396j4qiaybx0  clfbcpdz013uc07zn8vjl7q45     kz     kz   \n",
       "...                         ...                        ...    ...    ...   \n",
       "1046  clffu9eh401cw396jmex3ex42  clfbcpdz013uc07zn8vjl7q45     kz     kz   \n",
       "1047  clffu9lz101d1396j5y4ygjft  clfbcpdz013uc07zn8vjl7q45     kz     kz   \n",
       "1048  clffu9uu201d6396j4f8zy178  clfbcpdz013uc07zn8vjl7q45     kz     kz   \n",
       "1049  clffu744c01bn396jtuxtxlqp  clfbcpdz113v807zn2q2y9ck4  morph  morph   \n",
       "1050  clffu96e101cr396jzm1m8a78  clfbcpdz113uo07znh96wdg4o   disc   disc   \n",
       "\n",
       "      position  \n",
       "0            0  \n",
       "1            0  \n",
       "2            0  \n",
       "3            0  \n",
       "4            0  \n",
       "...        ...  \n",
       "1046         0  \n",
       "1047         0  \n",
       "1048         0  \n",
       "1049         5  \n",
       "1050         0  \n",
       "\n",
       "[1051 rows x 5 columns]"
      ]
     },
     "execution_count": 218,
     "metadata": {},
     "output_type": "execute_result"
    }
   ],
   "source": [
    "answer_df = pd.DataFrame(answer_list)\n",
    "answer_df "
   ]
  },
  {
   "cell_type": "code",
   "execution_count": 219,
   "id": "fb71e8c8",
   "metadata": {},
   "outputs": [
    {
     "data": {
      "text/plain": [
       "kz        896\n",
       "morph      43\n",
       "adv        35\n",
       "n          19\n",
       "interj     13\n",
       "disc       11\n",
       "rs          9\n",
       "phr         8\n",
       "vp          5\n",
       "adj         5\n",
       "conj        4\n",
       "pn          2\n",
       "uttr        1\n",
       "Name: title, dtype: int64"
      ]
     },
     "execution_count": 219,
     "metadata": {},
     "output_type": "execute_result"
    }
   ],
   "source": [
    "answer_df['title'].value_counts()"
   ]
  },
  {
   "cell_type": "code",
   "execution_count": 220,
   "id": "6e926faf",
   "metadata": {},
   "outputs": [],
   "source": [
    "title_list = dict_get(tags_df['classifications'],'title')"
   ]
  },
  {
   "cell_type": "code",
   "execution_count": 221,
   "id": "0e347874",
   "metadata": {},
   "outputs": [
    {
     "data": {
      "text/plain": [
       "1051"
      ]
     },
     "execution_count": 221,
     "metadata": {},
     "output_type": "execute_result"
    }
   ],
   "source": [
    "len(title_list)"
   ]
  },
  {
   "cell_type": "code",
   "execution_count": 222,
   "id": "88a3e8f8",
   "metadata": {},
   "outputs": [
    {
     "data": {
      "text/plain": [
       "lang          905\n",
       "intra-word    121\n",
       "intra-sent     24\n",
       "inter-sent      1\n",
       "dtype: int64"
      ]
     },
     "execution_count": 222,
     "metadata": {},
     "output_type": "execute_result"
    }
   ],
   "source": [
    "title_df = pd.DataFrame(title_list)\n",
    "title_df.value_counts()"
   ]
  },
  {
   "cell_type": "code",
   "execution_count": 223,
   "id": "9ea6a35a",
   "metadata": {},
   "outputs": [],
   "source": [
    "# title_df"
   ]
  },
  {
   "cell_type": "code",
   "execution_count": 224,
   "id": "4c8d9c5b",
   "metadata": {},
   "outputs": [
    {
     "data": {
      "text/plain": [
       "lang          905\n",
       "intra_word    121\n",
       "intra_sent     24\n",
       "inter_sent      1\n",
       "dtype: int64"
      ]
     },
     "execution_count": 224,
     "metadata": {},
     "output_type": "execute_result"
    }
   ],
   "source": [
    "value_list = dict_get(tags_df['classifications'],'value')\n",
    "value_df = pd.DataFrame(value_list)\n",
    "value_df.value_counts()"
   ]
  },
  {
   "cell_type": "code",
   "execution_count": null,
   "id": "480ac331",
   "metadata": {},
   "outputs": [],
   "source": []
  }
 ],
 "metadata": {
  "kernelspec": {
   "display_name": "Python 3 (ipykernel)",
   "language": "python",
   "name": "python3"
  },
  "language_info": {
   "codemirror_mode": {
    "name": "ipython",
    "version": 3
   },
   "file_extension": ".py",
   "mimetype": "text/x-python",
   "name": "python",
   "nbconvert_exporter": "python",
   "pygments_lexer": "ipython3",
   "version": "3.9.15"
  }
 },
 "nbformat": 4,
 "nbformat_minor": 5
}
